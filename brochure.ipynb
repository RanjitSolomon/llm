{
 "cells": [
  {
   "cell_type": "code",
   "execution_count": 1,
   "id": "910ae8ec-e79a-421e-8ef6-c1cdbc4fecf3",
   "metadata": {},
   "outputs": [],
   "source": [
    "import os\n",
    "import requests\n",
    "import json\n",
    "from typing import List\n",
    "from dotenv import load_dotenv\n",
    "from bs4 import BeautifulSoup\n",
    "from IPython.display import Markdown, display, update_display\n",
    "from openai import OpenAI"
   ]
  },
  {
   "cell_type": "code",
   "execution_count": 2,
   "id": "32837f8f-39d2-4658-b351-d4dd976c39fb",
   "metadata": {},
   "outputs": [
    {
     "data": {
      "text/plain": [
       "True"
      ]
     },
     "execution_count": 2,
     "metadata": {},
     "output_type": "execute_result"
    }
   ],
   "source": [
    "load_dotenv()"
   ]
  },
  {
   "cell_type": "code",
   "execution_count": 3,
   "id": "1d48aa0f-d362-4a05-b790-3553aa194388",
   "metadata": {},
   "outputs": [],
   "source": [
    "openai = OpenAI()\n",
    "MODEL = 'gpt-4o-mini'"
   ]
  },
  {
   "cell_type": "code",
   "execution_count": 4,
   "id": "d297ef6a-9550-4d7b-a28d-467384ff7bc1",
   "metadata": {},
   "outputs": [],
   "source": [
    "headers = {\n",
    " \"User-Agent\": \"Mozilla/5.0 (Windows NT 10.0; Win64; x64) AppleWebKit/537.36 (KHTML, like Gecko) Chrome/117.0.0.0 Safari/537.36\"\n",
    "}\n",
    "\n",
    "class Website:\n",
    "    \"\"\"\n",
    "    A utility class to represent a Website that we have scraped, now with links\n",
    "    \"\"\"\n",
    "\n",
    "    def __init__(self, url):\n",
    "        self.url = url\n",
    "        response = requests.get(url, headers=headers)\n",
    "        self.body = response.content\n",
    "        soup = BeautifulSoup(self.body, 'html.parser')\n",
    "        self.title = soup.title.string if soup.title else \"No title found\"\n",
    "        if soup.body:\n",
    "            for irrelevant in soup.body([\"script\", \"style\", \"img\", \"input\"]):\n",
    "                irrelevant.decompose()\n",
    "            self.text = soup.body.get_text(separator=\"\\n\", strip=True)\n",
    "        else:\n",
    "            self.text = \"\"\n",
    "        links = [link.get('href') for link in soup.find_all('a')]\n",
    "        self.links = [link for link in links if link]\n",
    "\n",
    "    def get_contents(self):\n",
    "        return f\"Webpage Title:\\n{self.title}\\nWebpage Contents:\\n{self.text}\\n\\n\""
   ]
  },
  {
   "cell_type": "code",
   "execution_count": 5,
   "id": "51cac165-6e57-46d3-b4b2-8c96084af36b",
   "metadata": {},
   "outputs": [
    {
     "data": {
      "text/plain": [
       "['/',\n",
       " '/models',\n",
       " '/datasets',\n",
       " '/spaces',\n",
       " '/posts',\n",
       " '/docs',\n",
       " '/enterprise',\n",
       " '/pricing',\n",
       " '/login',\n",
       " '/join',\n",
       " '/blog/smolagents',\n",
       " '/deepseek-ai/DeepSeek-V3',\n",
       " '/PowerInfer/SmallThinker-3B-Preview',\n",
       " '/deepseek-ai/DeepSeek-V3-Base',\n",
       " '/black-forest-labs/FLUX.1-dev',\n",
       " '/hexgrad/Kokoro-82M',\n",
       " '/models',\n",
       " '/spaces/osanseviero/gemini-coder',\n",
       " '/spaces/JeffreyXiang/TRELLIS',\n",
       " '/spaces/lllyasviel/iclight-v2',\n",
       " '/spaces/Kwai-Kolors/Kolors-Virtual-Try-On',\n",
       " '/spaces/reach-vb/2024-ai-timeline',\n",
       " '/spaces',\n",
       " '/datasets/agibot-world/AgiBotWorld-Alpha',\n",
       " '/datasets/fka/awesome-chatgpt-prompts',\n",
       " '/datasets/PowerInfer/QWQ-LONGCOT-500K',\n",
       " '/datasets/cfahlgren1/react-code-instructions',\n",
       " '/datasets/OpenLeecher/lmsys_chat_1m_clean',\n",
       " '/datasets',\n",
       " '/join',\n",
       " '/pricing#endpoints',\n",
       " '/pricing#spaces',\n",
       " '/pricing',\n",
       " '/enterprise',\n",
       " '/enterprise',\n",
       " '/enterprise',\n",
       " '/enterprise',\n",
       " '/enterprise',\n",
       " '/enterprise',\n",
       " '/enterprise',\n",
       " '/allenai',\n",
       " '/facebook',\n",
       " '/amazon',\n",
       " '/google',\n",
       " '/Intel',\n",
       " '/microsoft',\n",
       " '/grammarly',\n",
       " '/Writer',\n",
       " '/docs/transformers',\n",
       " '/docs/diffusers',\n",
       " '/docs/safetensors',\n",
       " '/docs/huggingface_hub',\n",
       " '/docs/tokenizers',\n",
       " '/docs/peft',\n",
       " '/docs/transformers.js',\n",
       " '/docs/timm',\n",
       " '/docs/trl',\n",
       " '/docs/datasets',\n",
       " '/docs/text-generation-inference',\n",
       " '/docs/accelerate',\n",
       " '/models',\n",
       " '/datasets',\n",
       " '/spaces',\n",
       " '/tasks',\n",
       " 'https://ui.endpoints.huggingface.co',\n",
       " '/chat',\n",
       " '/huggingface',\n",
       " '/brand',\n",
       " '/terms-of-service',\n",
       " '/privacy',\n",
       " 'https://apply.workable.com/huggingface/',\n",
       " 'mailto:press@huggingface.co',\n",
       " '/learn',\n",
       " '/docs',\n",
       " '/blog',\n",
       " 'https://discuss.huggingface.co',\n",
       " 'https://status.huggingface.co/',\n",
       " 'https://github.com/huggingface',\n",
       " 'https://twitter.com/huggingface',\n",
       " 'https://www.linkedin.com/company/huggingface/',\n",
       " '/join/discord']"
      ]
     },
     "execution_count": 5,
     "metadata": {},
     "output_type": "execute_result"
    }
   ],
   "source": [
    "website = Website(\"https://huggingface.co\")\n",
    "website.links"
   ]
  },
  {
   "cell_type": "code",
   "execution_count": 6,
   "id": "cd1f3c8d-3bac-420f-b00c-e2a544e1a56d",
   "metadata": {},
   "outputs": [],
   "source": [
    "def get_links_prompt(website): \n",
    "    link_system_prompt = \"You are provided with a list of links found on a webpage. \\\n",
    "    You are able to decide which of the links would be most relevant to include in a brochure about the company, \\\n",
    "    such as links to an About page, or a Company page, or Careers/Jobs pages.\\n\"\n",
    "    link_system_prompt += \"You should respond in JSON as in this example:\"\n",
    "    link_system_prompt += \"\"\"\n",
    "    {\n",
    "        \"links\": [\n",
    "            {\"type\": \"about page\", \"url\": \"https://full.url/goes/here/about\"},\n",
    "            {\"type\": \"careers page\": \"url\": \"https://another.full.url/careers\"}, \n",
    "            {\"type\": \"github page\": \"url\": \"https://github.com/something\"},\n",
    "            {\"type\": \"discourd page\": \"url\": \"https://discord.com/something\"}, \n",
    "            {\"type\": \"organization page\" \"url\":\"https://{website.link}/something\"}, \n",
    "            {\"type\": \"social media page\" \"url\":\"{website.link}/social\"}\n",
    "        ]\n",
    "    }\n",
    "    \"\"\"\n",
    "\n",
    "    user_prompt = f\"Here is the list of links on the website of {website.url} - \"\n",
    "    user_prompt += \"please decide which of these are relevant web links for a brochure about the company, respond with the full https URL in JSON format. \\\n",
    "    Do not include Terms of Service, Privacy, email links.\\n\"\n",
    "    user_prompt += \"Links (some might be relative links):\\n\"\n",
    "    user_prompt += \"\\n\".join(website.links)\n",
    "\n",
    "    messages=[{\"role\": \"system\", \"content\": link_system_prompt},{\"role\": \"user\", \"content\": user_prompt}]\n",
    "\n",
    "    return messages"
   ]
  },
  {
   "cell_type": "code",
   "execution_count": 7,
   "id": "f868035c-9a63-4667-b6e8-977646ac57e5",
   "metadata": {},
   "outputs": [],
   "source": [
    "def get_links(url):\n",
    "    website = Website(url)\n",
    "    response = openai.chat.completions.create(\n",
    "        model=MODEL,\n",
    "        messages=get_links_prompt(website), response_format={\"type\": \"json_object\"}\n",
    "    )\n",
    "    result = response.choices[0].message.content\n",
    "    return json.loads(result)\n"
   ]
  },
  {
   "cell_type": "code",
   "execution_count": 8,
   "id": "ad7013ab-cfb6-4207-8482-1e6e0d16527c",
   "metadata": {},
   "outputs": [
    {
     "data": {
      "text/plain": [
       "{'links': [{'type': 'about page', 'url': 'https://huggingface.co'},\n",
       "  {'type': 'careers page', 'url': 'https://apply.workable.com/huggingface/'},\n",
       "  {'type': 'github page', 'url': 'https://github.com/huggingface'},\n",
       "  {'type': 'twitter page', 'url': 'https://twitter.com/huggingface'},\n",
       "  {'type': 'linkedin page',\n",
       "   'url': 'https://www.linkedin.com/company/huggingface/'}]}"
      ]
     },
     "execution_count": 8,
     "metadata": {},
     "output_type": "execute_result"
    }
   ],
   "source": [
    "get_links(\"https://huggingface.co\")"
   ]
  },
  {
   "cell_type": "markdown",
   "id": "e09ad70c-b289-473e-ae7c-60c6307f2351",
   "metadata": {},
   "source": [
    "## Make the brochure!"
   ]
  },
  {
   "cell_type": "code",
   "execution_count": 9,
   "id": "d436f87e-27af-41ed-8a59-fe5195167f08",
   "metadata": {},
   "outputs": [],
   "source": [
    "def get_all_details(url): \n",
    "    result = \"Landing page:\\n\" \n",
    "    result += Website(url).get_contents() \n",
    "    links = get_links(url) \n",
    "    print(\"Found links:\", links) \n",
    "    for link in links[\"links\"]: \n",
    "        result += f\"\\n\\n{link['type']}\\n\" \n",
    "        result += Website(link[\"url\"]).get_contents() \n",
    "    return result"
   ]
  },
  {
   "cell_type": "code",
   "execution_count": 10,
   "id": "d16626d5-c8e0-4ced-8760-c3385ecfcb35",
   "metadata": {},
   "outputs": [],
   "source": [
    "def get_brochure_prompt(company_name, url): \n",
    "    system_prompt = \"You are an assistant that analyzes the contents of several relevant pages from a company website \\\n",
    "    and creates a short brochure about the company for prospective customers, investors and recruits. Respond in markdown.\\\n",
    "    Include details of company culture, customers and careers/jobs if you have the information.\"\n",
    "\n",
    "    user_prompt = f\"You are looking at a company called: {company_name}\\n\"\n",
    "    user_prompt += f\"Here are the contents of its landing page and other relevant pages; use this information to build a short brochure of the company in markdown.\\n\"\n",
    "    user_prompt += get_all_details(url)\n",
    "    user_prompt = user_prompt[:5_000] # Truncate if more than 5,000 characters\n",
    "    \n",
    "    return ([\n",
    "            {\"role\": \"system\", \"content\": system_prompt},\n",
    "            {\"role\": \"user\", \"content\": user_prompt}\n",
    "          ])"
   ]
  },
  {
   "cell_type": "code",
   "execution_count": 11,
   "id": "9f69d7ab-70ef-41e6-ad6b-ffa0f89777b5",
   "metadata": {},
   "outputs": [],
   "source": [
    "def create_brochure(company_name, url): \n",
    "    response = openai.chat.completions.create(model=MODEL, messages=get_brochure_prompt(company_name, url)) \n",
    "    result = response.choices[0].message.content \n",
    "    display(Markdown(result))"
   ]
  },
  {
   "cell_type": "code",
   "execution_count": 12,
   "id": "ce306097-b75a-401f-899b-9e95b4a0ab09",
   "metadata": {},
   "outputs": [
    {
     "name": "stdout",
     "output_type": "stream",
     "text": [
      "Found links: {'links': [{'type': 'about page', 'url': 'https://huggingface.com'}, {'type': 'careers page', 'url': 'https://apply.workable.com/huggingface/'}, {'type': 'github page', 'url': 'https://github.com/huggingface'}, {'type': 'twitter page', 'url': 'https://twitter.com/huggingface'}, {'type': 'linkedin page', 'url': 'https://www.linkedin.com/company/huggingface/'}, {'type': 'blog page', 'url': 'https://huggingface.com/blog'}, {'type': 'community forum', 'url': 'https://discuss.huggingface.co'}]}\n"
     ]
    },
    {
     "data": {
      "text/markdown": [
       "# Hugging Face Brochure\n",
       "\n",
       "## Overview\n",
       "**Hugging Face** is a leading AI community and collaboration platform dedicated to building the future of machine learning. Our platform empowers developers and researchers to create, discover, and collaborate on diverse machine learning models, datasets, and applications. With over 400,000 models and 100,000 datasets available, Hugging Face is at the forefront of the AI revolution.\n",
       "\n",
       "## Our Platform\n",
       "- **Models**: Access a vast range of state-of-the-art machine learning models for diverse applications.\n",
       "- **Datasets**: Explore numerous datasets spanning various domains, enabling innovative research and development.\n",
       "- **Spaces**: Collaborate and run custom applications within the Hugging Face ecosystem.\n",
       "\n",
       "## Community\n",
       "More than **50,000 organizations** utilize Hugging Face, including notable names like Google, Microsoft, Amazon Web Services, and Meta. Our community thrives on collaboration, sharing knowledge, and pushing the boundaries of artificial intelligence.\n",
       "\n",
       "## Company Culture\n",
       "At Hugging Face, we believe in the power of **open-source** collaboration. Our culture encourages innovation, inclusivity, and the constant pursuit of knowledge. We are committed to building a diverse and welcoming environment where every team member's unique perspective is valued.\n",
       "\n",
       "## Careers at Hugging Face\n",
       "Join a passionate team dedicated to shaping the future of machine learning. We are always on the lookout for talented individuals in various fields, from engineering to product management. **Explore exciting career opportunities**[here](#) and be a part of the AI community building tomorrow.\n",
       "\n",
       "## Customers and Partnerships\n",
       "Hugging Face partners with numerous organizations across different sectors, providing enterprise-grade security, access controls, and dedicated support. Our customers range from innovative startups to established enterprises.\n",
       "\n",
       "## Get Involved\n",
       "Ready to contribute to the AI community? \n",
       "- **Sign Up** for free to access our platform.\n",
       "- **Explore** our extensive documentation and resources to enhance your knowledge and skills.\n",
       "- **Join our community** on GitHub, Twitter, LinkedIn, and Discord to connect with fellow AI enthusiasts.\n",
       "\n",
       "## Closing\n",
       "Join **Hugging Face** on our mission to build the future of artificial intelligence. Together, we can accelerate innovation, foster collaboration, and make a lasting impact on the world through machine learning.\n",
       "\n",
       "[Visit Our Website](https://huggingface.co) for more information!"
      ],
      "text/plain": [
       "<IPython.core.display.Markdown object>"
      ]
     },
     "metadata": {},
     "output_type": "display_data"
    }
   ],
   "source": [
    "create_brochure(\"HuggingFace\", \"https://huggingface.com\")"
   ]
  },
  {
   "cell_type": "markdown",
   "id": "99449f71-90fd-4995-9adf-9d42455a2b72",
   "metadata": {},
   "source": [
    "## Enhancement\n",
    "## Stream is True"
   ]
  },
  {
   "cell_type": "code",
   "execution_count": 13,
   "id": "57580edb-a7e9-472f-95b9-43b6616504ea",
   "metadata": {},
   "outputs": [],
   "source": [
    "def stream_brochure(company_name, url): \n",
    "    stream = openai.chat.completions.create(\n",
    "        model=MODEL, messages=get_brochure_prompt(company_name, url), stream=True\n",
    "    ) \n",
    "\n",
    "    response = \"\"\n",
    "    display_handle = display(Markdown(\"\"), display_id=True) \n",
    "    for chunk in stream: \n",
    "        response += chunk.choices[0].delta.content or '' \n",
    "        response = response.replace(\"``\", \"\").replace(\"markdown\", \"\") \n",
    "        update_display(Markdown(response), display_id=display_handle.display_id)"
   ]
  },
  {
   "cell_type": "code",
   "execution_count": 14,
   "id": "0f076891-0a9d-4ec6-af7a-acebc78c3bf2",
   "metadata": {},
   "outputs": [
    {
     "name": "stdout",
     "output_type": "stream",
     "text": [
      "Found links: {'links': [{'type': 'about page', 'url': 'https://huggingface.co/'}, {'type': 'models page', 'url': 'https://huggingface.co/models'}, {'type': 'datasets page', 'url': 'https://huggingface.co/datasets'}, {'type': 'spaces page', 'url': 'https://huggingface.co/spaces'}, {'type': 'blog page', 'url': 'https://huggingface.co/blog'}, {'type': 'enterprise page', 'url': 'https://huggingface.co/enterprise'}, {'type': 'pricing page', 'url': 'https://huggingface.co/pricing'}, {'type': 'careers page', 'url': 'https://apply.workable.com/huggingface/'}, {'type': 'documentation page', 'url': 'https://huggingface.co/docs'}, {'type': 'github page', 'url': 'https://github.com/huggingface'}, {'type': 'twitter page', 'url': 'https://twitter.com/huggingface'}, {'type': 'linkedin page', 'url': 'https://www.linkedin.com/company/huggingface/'}]}\n"
     ]
    },
    {
     "data": {
      "text/markdown": [
       "# Hugging Face Company Brochure\n",
       "\n",
       "---\n",
       "\n",
       "## **Welcome to Hugging Face!**\n",
       "### *The AI community building the future.*\n",
       "  \n",
       "At Hugging Face, we are dedicated to creating a collaborative platform that empowers the machine learning community to build, share, and innovate. Our mission is to make it easier for individuals and teams to connect with powerful models, datasets, and applications, thereby accelerating the pace of machine learning advancements.\n",
       "\n",
       "---\n",
       "\n",
       "## **Our Offerings**\n",
       "\n",
       "### **Models**\n",
       "We host an extensive library of over 400,000 models, ranging from natural language processing to computer vision. Notable models include:\n",
       "- **deepseek-ai/DeepSeek-V3** (74.1k downloads)\n",
       "- **PowerInfer/SmallThinker-3B-Preview** (7k downloads)\n",
       "\n",
       "### **Datasets**\n",
       "With more than 100,000 datasets, use our collection to fuel your projects. Some trending datasets include:\n",
       "- **agibot-world/AgiBotWorld-Alpha**\n",
       "- **fka/awesome-chatgpt-prompts**\n",
       "\n",
       "### **Spaces**\n",
       "Explore applications and tools in the AI ecosystem with 150,000+ applications available for collaboration and innovation.\n",
       "\n",
       "---\n",
       "\n",
       "## **Company Culture**\n",
       "\n",
       "At Hugging Face, we foster a **supportive and inclusive environment** where creativity and collaboration thrive. We believe that the best outcomes arise from diverse perspectives and open dialogue. Our team is driven by a passion for AI and a commitment to community engagement, contributing to an open-source ecosystem that benefits everyone.\n",
       "\n",
       "---\n",
       "\n",
       "## **Our Customers**\n",
       "\n",
       "Currently, we proudly serve over **50,000 organizations**, including:\n",
       "- **Meta**\n",
       "- **Amazon Web Services**\n",
       "- **Google**\n",
       "- **Microsoft**\n",
       "- and many others!\n",
       "\n",
       "These partnerships enable us to continuously refine our tools and offerings based on real-world needs.\n",
       "\n",
       "---\n",
       "\n",
       "## **Careers at Hugging Face**\n",
       "\n",
       "Join us in shaping the future of AI! We are constantly on the lookout for talented individuals passionate about machine learning and technology. By working with us, you will contribute to transformative projects and be part of a team dedicated to pushing the boundaries of what AI can achieve.\n",
       "\n",
       "### **Why Work Here?**\n",
       "- **Innovative Environment**: Collaborate with industry-leading experts and pioneer exciting technology.\n",
       "- **Impactful Work**: Engage in projects that make a significant difference in the AI community.\n",
       "- **Flexible Culture**: Enjoy a remote-friendly work environment with a strong emphasis on work-life balance.\n",
       "\n",
       "---\n",
       "\n",
       "## **Get In Touch**\n",
       "\n",
       "Explore our platform, join the community, and let’s build the future together!\n",
       "\n",
       "- **Website**: [Hugging Face](https://huggingface.co)\n",
       "- **Join Us**: Sign up for our platform to start collaborating and exploring AI advancements today!\n",
       "\n",
       "### *Together, we can achieve great things in AI!*"
      ],
      "text/plain": [
       "<IPython.core.display.Markdown object>"
      ]
     },
     "metadata": {},
     "output_type": "display_data"
    }
   ],
   "source": [
    "stream_brochure('HuggingFace', \"https://huggingface.co\")"
   ]
  },
  {
   "cell_type": "code",
   "execution_count": null,
   "id": "89c42f0a-7708-4edd-88d6-b5f4389c20b5",
   "metadata": {},
   "outputs": [],
   "source": []
  }
 ],
 "metadata": {
  "kernelspec": {
   "display_name": "Python 3 (ipykernel)",
   "language": "python",
   "name": "python3"
  },
  "language_info": {
   "codemirror_mode": {
    "name": "ipython",
    "version": 3
   },
   "file_extension": ".py",
   "mimetype": "text/x-python",
   "name": "python",
   "nbconvert_exporter": "python",
   "pygments_lexer": "ipython3",
   "version": "3.11.3"
  }
 },
 "nbformat": 4,
 "nbformat_minor": 5
}
