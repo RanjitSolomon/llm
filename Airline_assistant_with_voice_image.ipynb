{
 "cells": [
  {
   "cell_type": "code",
   "execution_count": 1,
   "id": "9b19d51d-95d7-407d-bb71-adba1eed5d74",
   "metadata": {},
   "outputs": [],
   "source": [
    "import os  \n",
    "from openai import OpenAI \n",
    "from anthropic import Anthropic \n",
    "import google.generativeai as genai \n",
    "from dotenv import load_dotenv \n",
    "import gradio as gr\n",
    "\n",
    "# Image \n",
    "import base64\n",
    "from io import BytesIO\n",
    "from PIL import Image  \n",
    "\n",
    "import json"
   ]
  },
  {
   "cell_type": "code",
   "execution_count": 2,
   "id": "095a18d0-633e-40b4-aa91-bdab5476b1e5",
   "metadata": {},
   "outputs": [],
   "source": [
    "load_dotenv() \n",
    "os.environ['OPENAI_API_KEY'] = os.getenv('OPENAI_API_KEY') \n",
    "os.environ['ANTHROPIC_KEY'] = os.getenv('ANTHROPIC_API_KEY') \n",
    "os.environ['GOOGLE_API_KEY'] = os.getenv('GOOGLE_API_KEY')"
   ]
  },
  {
   "cell_type": "code",
   "execution_count": 3,
   "id": "935505d4-eecf-4f92-ac98-1a46e3f360e5",
   "metadata": {},
   "outputs": [],
   "source": [
    "openai = OpenAI() \n",
    "claude = Anthropic()\n",
    "genai.configure()"
   ]
  },
  {
   "cell_type": "code",
   "execution_count": 4,
   "id": "8078dd98-f86f-4383-bad5-7a7ee2043cba",
   "metadata": {},
   "outputs": [],
   "source": [
    "MODEL = 'gpt-4o-mini' "
   ]
  },
  {
   "cell_type": "code",
   "execution_count": 5,
   "id": "faf974f8-466a-4390-9bd3-2c0a007c5541",
   "metadata": {},
   "outputs": [],
   "source": [
    "system_message = \"You are a helpful assistant for an Airline called FlightAI\" \n",
    "system_message += \"Give short, courteous answers, no more than 1 sentence. \"\n",
    "system_message += \"Always be accurate. If you don't know the answer, say so\""
   ]
  },
  {
   "cell_type": "code",
   "execution_count": 6,
   "id": "26ee4606-fc9d-43d4-8403-baab8ed2966a",
   "metadata": {},
   "outputs": [],
   "source": [
    "ticket_prices = {'london': \"$799\", 'paris': \"$999\", 'tokyo': \"$1400\", 'berlin': \"$499\"} "
   ]
  },
  {
   "cell_type": "code",
   "execution_count": 7,
   "id": "d75f6506-51e6-4f11-b105-3c119e34274e",
   "metadata": {},
   "outputs": [],
   "source": [
    "def get_ticket_price(destination_city): \n",
    "    print(f\"Tool get_ticket_price called for {destination_city}\") \n",
    "    city = destination_city.lower() \n",
    "    return ticket_prices.get(city, \"unknown\")"
   ]
  },
  {
   "cell_type": "code",
   "execution_count": 8,
   "id": "3353d178-4756-42c8-acc9-79d474002ca1",
   "metadata": {},
   "outputs": [],
   "source": [
    "price_function = {\n",
    "    \"name\": \"get_ticket_price\",\n",
    "    \"description\": \"Get the price of a return ticket to the destination city. Call this whenever you need to know the ticket price, for example when a customer asks 'How much is a ticket to this city'\",\n",
    "    \"parameters\": {\n",
    "        \"type\": \"object\",\n",
    "        \"properties\": {\n",
    "            \"destination_city\": {\n",
    "                \"type\": \"string\",\n",
    "                \"description\": \"The city that the customer wants to travel to\",\n",
    "            },\n",
    "        },\n",
    "        \"required\": [\"destination_city\"],\n",
    "        \"additionalProperties\": False\n",
    "    }\n",
    "}"
   ]
  },
  {
   "cell_type": "code",
   "execution_count": 9,
   "id": "9a9da0c2-aebd-442d-a5fd-64a9d54e5191",
   "metadata": {},
   "outputs": [],
   "source": [
    "tools = [{\"type\": \"function\", \"function\": price_function}]"
   ]
  },
  {
   "cell_type": "code",
   "execution_count": 10,
   "id": "3a3d13fc-12fc-4f68-b801-95349bbb32b9",
   "metadata": {},
   "outputs": [],
   "source": [
    "def chat(message, history):\n",
    "    messages = [{\"role\": \"system\", \"content\": system_message}] + history + [{\"role\": \"user\", \"content\": message}]\n",
    "    response = openai.chat.completions.create(model=MODEL, messages=messages, tools=tools)\n",
    "\n",
    "    if response.choices[0].finish_reason==\"tool_calls\":\n",
    "        message = response.choices[0].message\n",
    "        response, city = handle_tool_call(message)\n",
    "        messages.append(message)\n",
    "        messages.append(response)\n",
    "        response = openai.chat.completions.create(model=MODEL, messages=messages)\n",
    "    \n",
    "    return response.choices[0].message.content"
   ]
  },
  {
   "cell_type": "code",
   "execution_count": 11,
   "id": "b6960618-c779-4150-8462-efd5c70ab3d3",
   "metadata": {},
   "outputs": [],
   "source": [
    "def handle_tool_call(message):\n",
    "    tool_call = message.tool_calls[0]\n",
    "    arguments = json.loads(tool_call.function.arguments)\n",
    "    city = arguments.get('destination_city')\n",
    "    price = get_ticket_price(city)\n",
    "    response = {\n",
    "        \"role\": \"tool\",\n",
    "        \"content\": json.dumps({\"destination_city\": city,\"price\": price}),\n",
    "        \"tool_call_id\": tool_call.id\n",
    "    }\n",
    "    return response, city"
   ]
  },
  {
   "cell_type": "code",
   "execution_count": 12,
   "id": "a548809b-e60e-402e-b41f-203cb5c4cb59",
   "metadata": {},
   "outputs": [],
   "source": [
    "def artist(city):\n",
    "    image_response = openai.images.generate(\n",
    "            model=\"dall-e-3\",\n",
    "            prompt=f\"An image representing a vacation in {city}, showing tourist spots and everything unique about {city}, in a vibrant pop-art style\",\n",
    "            size=\"1024x1024\",\n",
    "            n=1,\n",
    "            response_format=\"b64_json\",\n",
    "        )\n",
    "    image_base64 = image_response.data[0].b64_json\n",
    "    image_data = base64.b64decode(image_base64)\n",
    "    return Image.open(BytesIO(image_data))"
   ]
  },
  {
   "cell_type": "code",
   "execution_count": 13,
   "id": "a7b80516-1c70-4f0e-97a2-6d64249eb51a",
   "metadata": {},
   "outputs": [],
   "source": [
    "# 4c an image\n",
    "# image = artist(\"New York\")\n",
    "# display(image)"
   ]
  },
  {
   "cell_type": "markdown",
   "id": "98f11c5b-1a19-4d59-995d-7e86422fd21a",
   "metadata": {},
   "source": [
    "### Audio\n",
    "#### Two options    \n",
    "#### Option 1"
   ]
  },
  {
   "cell_type": "code",
   "execution_count": 14,
   "id": "f61d60f4-ff05-4694-bf4e-02d85c57982e",
   "metadata": {},
   "outputs": [],
   "source": [
    "import tempfile\n",
    "import subprocess\n",
    "from io import BytesIO\n",
    "from pydub import AudioSegment\n",
    "import time\n",
    "\n",
    "def play_audio(audio_segment):\n",
    "    temp_dir = tempfile.gettempdir()\n",
    "    temp_path = os.path.join(temp_dir, \"temp_audio.wav\")\n",
    "    try:\n",
    "        audio_segment.export(temp_path, format=\"wav\")\n",
    "        time.sleep(3) # Student Dominic found that this was needed. You could also try commenting out to see if not needed on your PC\n",
    "        subprocess.call([\n",
    "            \"ffplay\",\n",
    "            \"-nodisp\",\n",
    "            \"-autoexit\",\n",
    "            \"-hide_banner\",\n",
    "            temp_path\n",
    "        ], stdout=subprocess.DEVNULL, stderr=subprocess.DEVNULL)\n",
    "    finally:\n",
    "        try:\n",
    "            os.remove(temp_path)\n",
    "        except Exception:\n",
    "            pass\n",
    " \n",
    "def talker_pc(message):\n",
    "    response = openai.audio.speech.create(\n",
    "        model=\"tts-1\",\n",
    "        voice=\"onyx\",  # Also, try replacing onyx with alloy\n",
    "        input=message\n",
    "    )\n",
    "    audio_stream = BytesIO(response.content)\n",
    "    audio = AudioSegment.from_file(audio_stream, format=\"mp3\")\n",
    "    play_audio(audio)\n"
   ]
  },
  {
   "cell_type": "code",
   "execution_count": 20,
   "id": "625f9d62-e066-4aaa-836e-7a449fa67d6a",
   "metadata": {},
   "outputs": [],
   "source": [
    "talker_pc2(\"Well hi there\")"
   ]
  },
  {
   "cell_type": "markdown",
   "id": "af4bef2d-e7d4-4e20-b50a-ebddf90a758b",
   "metadata": {},
   "source": [
    "#### Option 2 - Simple Audio"
   ]
  },
  {
   "cell_type": "code",
   "execution_count": 22,
   "id": "d973359e-3a5e-4694-b69d-885974995d1d",
   "metadata": {},
   "outputs": [],
   "source": [
    "# !pip install simpleaudio\n",
    "\n",
    "from pydub import AudioSegment\n",
    "from io import BytesIO\n",
    "import tempfile\n",
    "import os\n",
    "import simpleaudio as sa\n",
    "\n",
    "def talker_pc4(message):\n",
    "    response = openai.audio.speech.create(\n",
    "        model=\"tts-1\",\n",
    "        voice=\"onyx\",  # Also, try replacing onyx with alloy\n",
    "        input=message\n",
    "    )\n",
    "    \n",
    "    audio_stream = BytesIO(response.content)\n",
    "    audio = AudioSegment.from_file(audio_stream, format=\"mp3\")\n",
    "\n",
    "    # Create a temporary file in a folder where you have write permissions\n",
    "    with tempfile.NamedTemporaryFile(suffix=\".wav\", delete=False, dir=os.path.expanduser(\"~/Documents\")) as temp_audio_file:\n",
    "        temp_file_name = temp_audio_file.name\n",
    "        audio.export(temp_file_name, format=\"wav\")\n",
    "    \n",
    "    # Load and play audio using simpleaudio\n",
    "    wave_obj = sa.WaveObject.from_wave_file(temp_file_name)\n",
    "    play_obj = wave_obj.play()\n",
    "    play_obj.wait_done()  # Wait for playback to finish\n",
    "\n",
    "    # Clean up the temporary file afterward\n",
    "    os.remove(temp_file_name)\n",
    "    "
   ]
  },
  {
   "cell_type": "code",
   "execution_count": 23,
   "id": "aaf8d812-512f-4df2-837e-efbfa07cbdfe",
   "metadata": {},
   "outputs": [],
   "source": [
    "talker_pc4(\"Well hi there\")"
   ]
  },
  {
   "cell_type": "code",
   "execution_count": 15,
   "id": "c4fc58ec-4d61-4519-a0d0-868142585771",
   "metadata": {},
   "outputs": [],
   "source": [
    "def chat(history):\n",
    "    messages = [{\"role\": \"system\", \"content\": system_message}] + history\n",
    "    response = openai.chat.completions.create(model=MODEL, messages=messages, tools=tools)\n",
    "    image = None\n",
    "    \n",
    "    if response.choices[0].finish_reason==\"tool_calls\":\n",
    "        message = response.choices[0].message\n",
    "        response, city = handle_tool_call(message)\n",
    "        messages.append(message)\n",
    "        messages.append(response)\n",
    "        image = artist(city)\n",
    "        response = openai.chat.completions.create(model=MODEL, messages=messages)\n",
    "        \n",
    "    reply = response.choices[0].message.content\n",
    "    history += [{\"role\":\"assistant\", \"content\":reply}]\n",
    "\n",
    "    # Comment out or delete the next line if you'd rather skip Audio for now..\n",
    "    talker_pc(reply)\n",
    "    \n",
    "    return history, image"
   ]
  },
  {
   "cell_type": "code",
   "execution_count": 16,
   "id": "d2e73794-4361-4610-803c-7d14ec9bba17",
   "metadata": {},
   "outputs": [
    {
     "name": "stdout",
     "output_type": "stream",
     "text": [
      "* Running on local URL:  http://127.0.0.1:7860\n",
      "\n",
      "To create a public link, set `share=True` in `launch()`.\n"
     ]
    },
    {
     "data": {
      "text/html": [
       "<div><iframe src=\"http://127.0.0.1:7860/\" width=\"100%\" height=\"500\" allow=\"autoplay; camera; microphone; clipboard-read; clipboard-write;\" frameborder=\"0\" allowfullscreen></iframe></div>"
      ],
      "text/plain": [
       "<IPython.core.display.HTML object>"
      ]
     },
     "metadata": {},
     "output_type": "display_data"
    },
    {
     "data": {
      "text/plain": []
     },
     "execution_count": 16,
     "metadata": {},
     "output_type": "execute_result"
    },
    {
     "name": "stdout",
     "output_type": "stream",
     "text": [
      "Tool get_ticket_price called for London\n"
     ]
    }
   ],
   "source": [
    "# More involved Gradio code as we're not using the preset Chat interface!\n",
    "# Passing in inbrowser=True in the last line will cause a Gradio window to pop up immediately.\n",
    "\n",
    "with gr.Blocks() as ui:\n",
    "    with gr.Row():\n",
    "        chatbot = gr.Chatbot(height=500, type=\"messages\")\n",
    "        image_output = gr.Image(height=500)\n",
    "    with gr.Row():\n",
    "        entry = gr.Textbox(label=\"Chat with our AI Assistant:\")\n",
    "    with gr.Row():\n",
    "        clear = gr.Button(\"Clear\")\n",
    "\n",
    "    def do_entry(message, history):\n",
    "        history += [{\"role\":\"user\", \"content\":message}]\n",
    "        return \"\", history\n",
    "\n",
    "    entry.submit(do_entry, inputs=[entry, chatbot], outputs=[entry, chatbot]).then(\n",
    "        chat, inputs=chatbot, outputs=[chatbot, image_output]\n",
    "    )\n",
    "    clear.click(lambda: None, inputs=None, outputs=chatbot, queue=False)\n",
    "\n",
    "ui.launch(inbrowser=True)"
   ]
  },
  {
   "cell_type": "markdown",
   "id": "15be0af9-3813-4b00-bf1f-24e3ca11eb48",
   "metadata": {},
   "source": [
    "#### Add more Tools/Agents to enhance capabilities    \n",
    "- Add another Tool to make a booking\n",
    "- Add an Agent that translates all responses to a different language and shows on the right hand side using a different frontier model\n",
    "- Add an Agent that can listen for audio and convert it to text"
   ]
  }
 ],
 "metadata": {
  "kernelspec": {
   "display_name": "Python 3 (ipykernel)",
   "language": "python",
   "name": "python3"
  },
  "language_info": {
   "codemirror_mode": {
    "name": "ipython",
    "version": 3
   },
   "file_extension": ".py",
   "mimetype": "text/x-python",
   "name": "python",
   "nbconvert_exporter": "python",
   "pygments_lexer": "ipython3",
   "version": "3.11.3"
  }
 },
 "nbformat": 4,
 "nbformat_minor": 5
}
