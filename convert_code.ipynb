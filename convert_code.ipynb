{
 "cells": [
  {
   "cell_type": "markdown",
   "id": "f511c4ce-56dc-453d-b010-84f508ac9d66",
   "metadata": {},
   "source": [
    "# Code Generation \n",
    "      \n",
    "## Leveraging Frontier Models for High Performance Code Generation in C++  "
   ]
  },
  {
   "cell_type": "markdown",
   "id": "853e193d-de45-454c-9792-7605b2d44962",
   "metadata": {},
   "source": [
    "- Code with Frontier Models including AI Assistants with Tools\n",
    "- Build Solutions with open-source LLMs with HuggingFace transformers\n",
    "- Choose the right LLM for the project backed by metrics\n"
   ]
  },
  {
   "cell_type": "markdown",
   "id": "355728c2-e881-48ab-8fc0-cbe9402b89d8",
   "metadata": {},
   "source": [
    "- Assess models for coding ability\n",
    "- Use Frontier models to generate code\n",
    "- Build a solution that uses LLMs to generate code "
   ]
  },
  {
   "cell_type": "markdown",
   "id": "885bdbb0-339f-4791-affe-f12aa2e9b0a4",
   "metadata": {},
   "source": [
    "## Build a product that converts Python code to C++ for performance\n",
    "#### Frontier Model Solution"
   ]
  },
  {
   "cell_type": "markdown",
   "id": "95b2fded-88c5-4f50-b29d-8acbe604b3b0",
   "metadata": {},
   "source": [
    "Please implement this Python code in C++ with the fastest possible implementation for an M1 MAC (or x64?).     \n",
    "Only respond with the C++ code. Do not explain your implementation.       \n",
    "The only requirement is that the C++ code prints the same results and runs faster.    "
   ]
  },
  {
   "cell_type": "code",
   "execution_count": 2,
   "id": "e3327312-24b8-4154-9e9d-d90f5d3f352b",
   "metadata": {},
   "outputs": [
    {
     "name": "stdout",
     "output_type": "stream",
     "text": [
      "Result: 2.500000020000\n",
      "Execution Time: 19.209496 seconds\n"
     ]
    }
   ],
   "source": [
    "import time \n",
    "\n",
    "def calculate(iterations, param1, param2): \n",
    "    result=1.0 \n",
    "    for i in range(1, iterations+1): \n",
    "        j = i * param1 - param2\n",
    "        if j != 0: \n",
    "            result -= (1/j) \n",
    "            j = i * param1 + param2 \n",
    "            result += (1/j) \n",
    "    return result   \n",
    "\n",
    "start_time = time.time() \n",
    "result = calculate(100_000_000, 4, 4) * 4 \n",
    "end_time = time.time()   \n",
    "\n",
    "print(f\"Result: {result:.12f}\") \n",
    "print(f\"Execution Time: {(end_time - start_time):.6f} seconds\")"
   ]
  },
  {
   "cell_type": "markdown",
   "id": "4ea14ced-1495-405b-9816-b5cf3a1a9c9c",
   "metadata": {},
   "source": [
    "Check https://www.vellum.ai/llm-leaderboard and https://scale.com/leaderboard   for a LLM       \n",
    "SEAL Coding Leaderboard     \n",
    "https://scale.com/leaderboard/coding     "
   ]
  },
  {
   "cell_type": "markdown",
   "id": "c2e743d9-337a-4057-bb95-6437377d9e62",
   "metadata": {},
   "source": [
    "| Rank | Model | Score | 95% Confidence |\n",
    "| --- | --- | --- | --- |  \n",
    "| 1 |o1-mini | 1247 | +34/-31 |     \n",
    "| 2 | GPT-4o | 1165 | +34/-31 | \n",
    "| 3 | o1-preview | 1146 | +28/-25 | \n",
    "| 4 | Gemini Pro Flash 2 | 1130 | +29/-29 |  \n",
    "| 5 | DeepSeek R1 | 1108 | +33/-32 |"
   ]
  },
  {
   "cell_type": "code",
   "execution_count": 3,
   "id": "51b591be-4cc7-4da3-9340-3b812f61c180",
   "metadata": {},
   "outputs": [],
   "source": [
    "# imports\n",
    "\n",
    "import os\n",
    "import io\n",
    "import sys\n",
    "from dotenv import load_dotenv\n",
    "from openai import OpenAI\n",
    "import google.generativeai\n",
    "import anthropic\n",
    "import ollama \n",
    "from IPython.display import Markdown, display, update_display\n",
    "import gradio as gr\n",
    "import subprocess"
   ]
  },
  {
   "cell_type": "code",
   "execution_count": 4,
   "id": "f5b0989b-6f31-4af7-81a3-4c82709f92de",
   "metadata": {},
   "outputs": [],
   "source": [
    "# environment \n",
    "\n",
    "load_dotenv()   \n",
    "\n",
    "google_api_key = os.getenv('GOOGLE_API_KEY')\n",
    "os.environ['OPENAI_API_KEY'] = os.getenv('OPENAI_API_KEY', 'your-key-if-not-using-env')\n",
    "os.environ['ANTHROPIC_API_KEY'] = os.getenv('ANTHROPIC_API_KEY', 'your-key-if-not-using-env')   "
   ]
  },
  {
   "cell_type": "code",
   "execution_count": 5,
   "id": "e1377093-c18e-477e-ad2f-304ea0331207",
   "metadata": {},
   "outputs": [],
   "source": [
    "openai = OpenAI()\n",
    "claude = anthropic.Anthropic()\n",
    "google.generativeai.configure()\n",
    "\n",
    "OPENAI_MODEL =\"gpt-4o-mini\"  \n",
    "CLAUDE_MODEL = \"claude-3-5-sonnet-20240620\"   \n",
    "GOOGLE_MODEL = \"gemini-2.0-flash\"  \n",
    "OLLAMA_MODEL = \"llama3.2:3b\""
   ]
  },
  {
   "cell_type": "code",
   "execution_count": 6,
   "id": "5ebecb05-0674-4137-b2f8-db8115f325a7",
   "metadata": {},
   "outputs": [],
   "source": [
    "system_message = \"You are an assistant that reimplements Python code in high performance C++ for an Windows system. \"\n",
    "system_message += \"Respond only with C++ code; use comments sparingly and do not provide any explanation other than occasional comments. \"\n",
    "system_message += \"The C++ response needs to produce an identical output in the fastest possible time.\""
   ]
  },
  {
   "cell_type": "code",
   "execution_count": 7,
   "id": "549ac2b7-c794-46a6-9cee-75d93cbdd35f",
   "metadata": {},
   "outputs": [],
   "source": [
    "def user_prompt_for(python):\n",
    "    user_prompt = \"Rewrite this Python code in C++ with the fastest possible implementation that produces identical output in the least time. \"\n",
    "    user_prompt += \"Respond only with C++ code; do not explain your work other than a few comments. \"\n",
    "    user_prompt += \"Pay attention to number types to ensure no int overflows. Remember to #include all necessary C++ packages such as iomanip.\\n\\n\"\n",
    "    user_prompt += python\n",
    "    return user_prompt"
   ]
  },
  {
   "cell_type": "code",
   "execution_count": 8,
   "id": "1f599e13-e14f-4e3f-9b02-9a46a1089141",
   "metadata": {},
   "outputs": [],
   "source": [
    "def messages_for(python):\n",
    "    return [\n",
    "        {\"role\": \"system\", \"content\": system_message},\n",
    "        {\"role\": \"user\", \"content\": user_prompt_for(python)}\n",
    "    ]"
   ]
  },
  {
   "cell_type": "code",
   "execution_count": 9,
   "id": "e1a3b15a-3c51-4b10-b452-8dfcc4be8f48",
   "metadata": {},
   "outputs": [],
   "source": [
    "# write to a file called optimized.cpp\n",
    "\n",
    "def write_output(cpp):\n",
    "    code = cpp.replace(\"```cpp\",\"\").replace(\"```\",\"\")\n",
    "    with open(\"optimized.cpp\", \"w\") as f:\n",
    "        f.write(code)\n",
    "      "
   ]
  },
  {
   "cell_type": "code",
   "execution_count": 10,
   "id": "af3c7d45-ba3b-44b3-b2de-87c546bff075",
   "metadata": {},
   "outputs": [],
   "source": [
    "def optimize_gpt(python):    \n",
    "    stream = openai.chat.completions.create(model=OPENAI_MODEL, messages=messages_for(python), stream=True)\n",
    "    reply = \"\"\n",
    "    for chunk in stream:\n",
    "        fragment = chunk.choices[0].delta.content or \"\"\n",
    "        reply += fragment\n",
    "        print(fragment, end='', flush=True)\n",
    "    write_output(reply)"
   ]
  },
  {
   "cell_type": "code",
   "execution_count": 11,
   "id": "4b4feb50-300d-4cd6-bf68-489b81e641e7",
   "metadata": {},
   "outputs": [],
   "source": [
    "def optimize_claude(python):\n",
    "    result = claude.messages.stream(model=CLAUDE_MODEL, max_tokens=2000, system=system_message, messages=[{\"role\": \"user\", \"content\": user_prompt_for(python)}],)\n",
    "    reply = \"\"\n",
    "    with result as stream:\n",
    "        for text in stream.text_stream:\n",
    "            reply += text\n",
    "            print(text, end=\"\", flush=True)\n",
    "    write_output(reply)"
   ]
  },
  {
   "cell_type": "code",
   "execution_count": 12,
   "id": "8d0e0098-82db-4057-b727-8fcfc980252a",
   "metadata": {},
   "outputs": [],
   "source": [
    "def optimize_google(python):\n",
    "    gemini = google.generativeai.GenerativeModel(model_name=GOOGLE_MODEL, system_instruction=system_message)\n",
    "    result = gemini.generate_content(user_prompt_for(python), stream=True)\n",
    "\n",
    "    reply = \"\"\n",
    "    for chunk in result:\n",
    "        if chunk.text:\n",
    "            reply += chunk.text\n",
    "            print(chunk.text, end=\"\", flush=True)\n",
    "    \n",
    "    write_output(reply)"
   ]
  },
  {
   "cell_type": "code",
   "execution_count": 13,
   "id": "3df8cb31-1d09-40d2-b853-cf946eace5ca",
   "metadata": {},
   "outputs": [],
   "source": [
    "def optimize_ollama(python): \n",
    "    messages = messages_for(python) \n",
    "\n",
    "    reply = \"\"\n",
    "    stream = ollama.chat(model=OLLAMA_MODEL, messages=messages, stream=True)\n",
    "    for chunk in stream:\n",
    "        fragment = chunk['message']['content']\n",
    "        reply += fragment\n",
    "        print(fragment, end='', flush=True)\n",
    "    write_output(reply)"
   ]
  },
  {
   "cell_type": "markdown",
   "id": "19da0082-ec48-444c-aa9c-5289a5112356",
   "metadata": {},
   "source": [
    "### Compile C++ Code   \n",
    "\n",
    "#### MAC \n",
    "!clang++ -O3 -std=c++17 -march=armv8.3-a -o optimized optimized.cpp\n",
    "\n",
    "#### Windows \n",
    "Visual Studio - Tools > Command Line > Developer Command Prompt > \"cl -o cppexe cppfile.cpp\"       \n",
    "Install MSYS2MINGW64, add path \"C:\\msys64\\ucrt64\\bin\", \"g++ -o cppexe cppfile.cpp\"    \n"
   ]
  },
  {
   "cell_type": "code",
   "execution_count": 14,
   "id": "1e6d47e4-cf59-4108-a02b-e14b9b4c47c4",
   "metadata": {},
   "outputs": [],
   "source": [
    "pi = \"\"\"\n",
    "import time\n",
    "\n",
    "def calculate(iterations, param1, param2):\n",
    "    result = 1.0\n",
    "    for i in range(1, iterations+1):\n",
    "        j = i * param1 - param2\n",
    "        result -= (1/j)\n",
    "        j = i * param1 + param2\n",
    "        result += (1/j)\n",
    "    return result\n",
    "\n",
    "start_time = time.time()\n",
    "result = calculate(100_000_000, 4, 1) * 4\n",
    "end_time = time.time()\n",
    "\n",
    "print(f\"Result: {result:.12f}\")\n",
    "print(f\"Execution Time: {(end_time - start_time):.6f} seconds\")\n",
    "\"\"\""
   ]
  },
  {
   "cell_type": "code",
   "execution_count": 15,
   "id": "6d3d4bbe-733a-49eb-888a-e3f260920f09",
   "metadata": {},
   "outputs": [
    {
     "name": "stdout",
     "output_type": "stream",
     "text": [
      "Result: 3.141592658589\n",
      "Execution Time: 18.957282 seconds\n"
     ]
    }
   ],
   "source": [
    "# Python \n",
    "exec(pi)"
   ]
  },
  {
   "cell_type": "markdown",
   "id": "d9ab2375-d499-45b1-9ecc-186d7d39a5de",
   "metadata": {},
   "source": [
    "### GPT"
   ]
  },
  {
   "cell_type": "code",
   "execution_count": 16,
   "id": "2fc79f8d-55e7-4dfb-adcc-fe2a94865d4e",
   "metadata": {},
   "outputs": [
    {
     "name": "stdout",
     "output_type": "stream",
     "text": [
      "```cpp\n",
      "#include <iostream>\n",
      "#include <iomanip>\n",
      "#include <chrono>\n",
      "\n",
      "double calculate(long long iterations, double param1, double param2) {\n",
      "    double result = 1.0;\n",
      "    for (long long i = 1; i <= iterations; ++i) {\n",
      "        double j1 = i * param1 - param2;\n",
      "        result -= (1.0 / j1);\n",
      "        double j2 = i * param1 + param2;\n",
      "        result += (1.0 / j2);\n",
      "    }\n",
      "    return result;\n",
      "}\n",
      "\n",
      "int main() {\n",
      "    auto start_time = std::chrono::high_resolution_clock::now();\n",
      "    double result = calculate(100000000, 4.0, 1.0) * 4.0;\n",
      "    auto end_time = std::chrono::high_resolution_clock::now();\n",
      "\n",
      "    std::chrono::duration<double> execution_time = end_time - start_time;\n",
      "\n",
      "    std::cout << std::fixed << std::setprecision(12);\n",
      "    std::cout << \"Result: \" << result << std::endl;\n",
      "    std::cout << \"Execution Time: \" << execution_time.count() << \" seconds\" << std::endl;\n",
      "\n",
      "    return 0;\n",
      "}\n",
      "```"
     ]
    }
   ],
   "source": [
    "# Convert to C++ with GPT \n",
    "optimize_gpt(pi)"
   ]
  },
  {
   "cell_type": "code",
   "execution_count": 17,
   "id": "83892faa-ca24-4add-beb4-a06c7dc3256a",
   "metadata": {},
   "outputs": [],
   "source": [
    "!g++ -o optimized_gpt optimized.cpp"
   ]
  },
  {
   "cell_type": "code",
   "execution_count": 18,
   "id": "763ee82b-ce37-49fa-91cc-4450eace3641",
   "metadata": {},
   "outputs": [
    {
     "name": "stdout",
     "output_type": "stream",
     "text": [
      "Result: 3.141592658589\n",
      "Execution Time: 0.338282000000 seconds\n"
     ]
    }
   ],
   "source": [
    "!.\\optimized_gpt.exe"
   ]
  },
  {
   "cell_type": "markdown",
   "id": "babcd682-f835-4d21-83c1-3c0cf6641185",
   "metadata": {},
   "source": [
    "### Claude"
   ]
  },
  {
   "cell_type": "code",
   "execution_count": 19,
   "id": "2ee38859-2547-4281-9a93-a518f4eb429a",
   "metadata": {},
   "outputs": [
    {
     "name": "stdout",
     "output_type": "stream",
     "text": [
      "#include <iostream>\n",
      "ip>clude <ioman\n",
      "ono>lude <chr\n",
      "\n",
      " param1, int param2) {long iterations, int\n",
      "double result = 1.0;\n",
      "#pragma omp parallel for reduction(-:result)\n",
      " = 1; i <= iterations; ++i) {\n",
      "_cast<double>(param1) - param2;\n",
      " / j;   result -= 1.0\n",
      " static_cast<double>(param1) + param2;\n",
      "0 / j;  result += 1.\n",
      "    }\n",
      "return result;\n",
      "}\n",
      "\n",
      "int main() {\n",
      "ono::high_resolution_clock::now();\n",
      "    \n",
      "(100000000LL, 4, 1) * 4;ulate\n",
      "    \n",
      "::high_resolution_clock::now();\n",
      "<std::chrono::microseconds>(end_time - start_time);\n",
      "    \n",
      "d::setprecision(12);::fixed << st\n",
      " << result << std::endl;: \"\n",
      "d::cout << \"Execution Time: \" << duration.count() / 1e6 << \" seconds\" << std::endl;\n",
      "    \n",
      "    return 0;\n",
      "}"
     ]
    }
   ],
   "source": [
    "# Convert to C++ with Claude  \n",
    "optimize_claude(pi)"
   ]
  },
  {
   "cell_type": "markdown",
   "id": "96bf63f9-b7a4-4ddf-9ed9-0c578d1a0fbe",
   "metadata": {},
   "source": [
    "The above code generated by Claude fixed with Anthropic Console      \n",
    "\"It seems like the code has some syntax errors and missing parts. Here's the corrected version:\"      "
   ]
  },
  {
   "cell_type": "code",
   "execution_count": null,
   "id": "639556d9-fd66-448c-a803-98ddd0cdacac",
   "metadata": {},
   "outputs": [],
   "source": [
    "claude_pi_code =\"\"\" \n",
    "#include <iostream>\n",
    "#include <iomanip>\n",
    "#include <chrono>\n",
    "\n",
    "double calculate(long iterations, int param1, int param2) {\n",
    "    double result = 1.0;\n",
    "    #pragma omp parallel for reduction(-:result)\n",
    "    for (int i = 1; i <= iterations; ++i) {\n",
    "        double j = i;\n",
    "        result -= 1.0 / (static_cast<double>(param1) - param2) / j;\n",
    "        result += 1.0 / (static_cast<double>(param1) + param2) / j;\n",
    "    }\n",
    "    return result;\n",
    "}\n",
    "\n",
    "int main() {\n",
    "    auto start_time = std::chrono::high_resolution_clock::now();\n",
    "    \n",
    "    double result = calculate(100000000LL, 4, 1) * 4;\n",
    "    \n",
    "    auto end_time = std::chrono::high_resolution_clock::now();\n",
    "    auto duration = std::chrono::duration_cast<std::chrono::microseconds>(end_time - start_time);\n",
    "    \n",
    "    std::cout << std::fixed << std::setprecision(12);\n",
    "    std::cout << \"Result: \" << result << std::endl;\n",
    "    std::cout << \"Execution Time: \" << duration.count() / 1e6 << \" seconds\" << std::endl;\n",
    "    \n",
    "    return 0;\n",
    "}\n",
    "\"\"\""
   ]
  },
  {
   "cell_type": "code",
   "execution_count": 20,
   "id": "b59fd5c9-f281-4284-8df4-91ef8f834cfb",
   "metadata": {},
   "outputs": [],
   "source": [
    "!g++ -o optimized_claude optimized.cpp"
   ]
  },
  {
   "cell_type": "code",
   "execution_count": 22,
   "id": "f54257f8-f75d-4ce9-be0b-5d4984401e6a",
   "metadata": {},
   "outputs": [
    {
     "name": "stdout",
     "output_type": "stream",
     "text": [
      "Result: -6.132211420723\n",
      "Execution Time: 0.342027000000 seconds\n"
     ]
    }
   ],
   "source": [
    "!.\\optimized_claude.exe"
   ]
  },
  {
   "cell_type": "markdown",
   "id": "142a08ab-d8e4-4f00-9180-98b2993f6f21",
   "metadata": {},
   "source": [
    "> **Error: incorrect result** "
   ]
  },
  {
   "cell_type": "markdown",
   "id": "e9fb9ddf-a02f-46b6-b4cc-5c18303e6fb0",
   "metadata": {},
   "source": [
    "### Gemini"
   ]
  },
  {
   "cell_type": "code",
   "execution_count": 25,
   "id": "8727d2b2-2835-4497-8ad8-8568694a702d",
   "metadata": {},
   "outputs": [
    {
     "name": "stdout",
     "output_type": "stream",
     "text": [
      "```cpp\n",
      "include <iostream>\n",
      "#include <iomanip>\n",
      "#include <chrono>\n",
      "\n",
      "double calculate(long long iterations, long long param1, long long param2) {\n",
      "    double result = 1.0;\n",
      "    for (long long i = 1; i <= iterations; ++i) {\n",
      "        double j = static_cast<double>(i * param1) - param2;\n",
      "        result -= (1.0 / j);\n",
      " = static_cast<double>(i * param1) + param2;\n",
      "        result += (1.0 / j);\n",
      "    }\n",
      "    return result;\n",
      "}\n",
      "\n",
      "int main() {\n",
      " std::chrono::high_resolution_clock::now();\n",
      "    double result = calculate(100000000LL, 4LL, 1LL) * 4.0;\n",
      " std::chrono::high_resolution_clock::now();\n",
      "\n",
      "    auto duration = std::chrono::duration_cast<std::chrono::microseconds>(end_time - start_time);\n",
      "    double elapsed_seconds = duration.count() / 1000000.0;\n",
      "\n",
      " << std::fixed << std::setprecision(12) << \"Result: \" << result << std::endl;\n",
      "    std::cout << std::fixed << std::setprecision(6) << \"Execution Time: \" << elapsed_seconds << \" seconds\" << std::endl;\n",
      "\n",
      "0;  return \n",
      "}\n",
      "```"
     ]
    }
   ],
   "source": [
    "# Convert python to cpp with Gemini\n",
    "optimize_google(pi)"
   ]
  },
  {
   "cell_type": "markdown",
   "id": "f06d5825-dcbe-4657-9bbf-70abbd89915e",
   "metadata": {},
   "source": [
    "> even though it appears to have some syntax errors, the saved file did not have any errors. Appears to be displaying error with Jupyter See below\n",
    ">\n",
    "> It may be the case for the Claude\n",
    "> "
   ]
  },
  {
   "cell_type": "code",
   "execution_count": 26,
   "id": "44e4a564-2e2b-4330-bc87-9da329ab4c69",
   "metadata": {},
   "outputs": [],
   "source": [
    "gemini_code= \"\"\" \n",
    "#include <iostream>\n",
    "#include <iomanip>\n",
    "#include <chrono>\n",
    "\n",
    "double calculate(long long iterations, long long param1, long long param2) {\n",
    "    double result = 1.0;\n",
    "    for (long long i = 1; i <= iterations; ++i) {\n",
    "        double j = static_cast<double>(i * param1) - param2;\n",
    "        result -= (1.0 / j);\n",
    "        j = static_cast<double>(i * param1) + param2;\n",
    "        result += (1.0 / j);\n",
    "    }\n",
    "    return result;\n",
    "}\n",
    "\n",
    "int main() {\n",
    "    auto start_time = std::chrono::high_resolution_clock::now();\n",
    "    double result = calculate(100000000LL, 4LL, 1LL) * 4.0;\n",
    "    auto end_time = std::chrono::high_resolution_clock::now();\n",
    "\n",
    "    auto duration = std::chrono::duration_cast<std::chrono::microseconds>(end_time - start_time);\n",
    "    double elapsed_seconds = duration.count() / 1000000.0;\n",
    "\n",
    "    std::cout << std::fixed << std::setprecision(12) << \"Result: \" << result << std::endl;\n",
    "    std::cout << std::fixed << std::setprecision(6) << \"Execution Time: \" << elapsed_seconds << \" seconds\" << std::endl;\n",
    "\n",
    "    return 0;\n",
    "}\n",
    "\n",
    "\"\"\""
   ]
  },
  {
   "cell_type": "code",
   "execution_count": 27,
   "id": "f70b7f51-808d-4e4a-a43b-38d5eccb055b",
   "metadata": {},
   "outputs": [],
   "source": [
    "!g++ -o optimized_gemini optimized.cpp"
   ]
  },
  {
   "cell_type": "code",
   "execution_count": 28,
   "id": "a038536d-dea0-4d86-a896-ef05f35d971d",
   "metadata": {},
   "outputs": [
    {
     "name": "stdout",
     "output_type": "stream",
     "text": [
      "Result: 3.141592658589\n",
      "Execution Time: 0.338521 seconds\n"
     ]
    }
   ],
   "source": [
    "!.\\optimized_gemini.exe"
   ]
  },
  {
   "cell_type": "markdown",
   "id": "7a0c34bb-42f1-4adc-b2a1-9137f83ce78a",
   "metadata": {},
   "source": [
    "### Ollama"
   ]
  },
  {
   "cell_type": "code",
   "execution_count": 29,
   "id": "c86e056d-1862-4270-85c4-0bb959149afc",
   "metadata": {},
   "outputs": [
    {
     "name": "stdout",
     "output_type": "stream",
     "text": [
      "```cpp\n",
      "#include <iostream>\n",
      "#include <chrono>\n",
      "\n",
      "using namespace std;\n",
      "\n",
      "// Function to calculate the result using a custom loop unrolling optimization\n",
      "long double calculate(int iterations, long double param1, long double param2) {\n",
      "    // Initialize result and accumulate constant terms in j1 and j2\n",
      "    long double result = 0;\n",
      "    long double c1 = 0.25 * param1 - param2;\n",
      "    long double c2 = 0.25 * param1 + param2;\n",
      "\n",
      "    for (int i = 1; i <= iterations; ++i) {\n",
      "        // Calculate j1 and j2\n",
      "        long double j1 = i * param1 - param2;\n",
      "        long double j2 = i * param1 + param2;\n",
      "\n",
      "        // Accumulate result with constant terms of j1 and j2\n",
      "        result += (c1 / j1);\n",
      "        result -= (c1 / j2);\n",
      "\n",
      "        // Accumulate result with constant terms of j1 and j2 in reverse order\n",
      "        result += (c2 / j1);\n",
      "        result -= (c2 / j2);\n",
      "    }\n",
      "\n",
      "    return 4 * result;\n",
      "}\n",
      "\n",
      "int main() {\n",
      "    int iterations = 100_000_000;\n",
      "\n",
      "    auto start_time = chrono::high_resolution_clock::now();\n",
      "    long double result = calculate(iterations, 4.0, 1.0);\n",
      "    auto end_time = chrono::high_resolution_clock::now();\n",
      "\n",
      "    cout << fixed << setprecision(12) << \"Result: \" << result << endl;\n",
      "    cout << fixed << setprecision(6) << \"Execution Time: \"\n",
      "         << chrono::duration_cast<chrono::microseconds>(end_time - start_time).count() / 1e6.0 << \" seconds\" << endl;\n",
      "\n",
      "    return 0;\n",
      "}\n",
      "```"
     ]
    }
   ],
   "source": [
    "optimize_ollama(pi)"
   ]
  },
  {
   "cell_type": "markdown",
   "id": "0b8838f9-19d3-4f1c-a2b8-d754aea83e50",
   "metadata": {},
   "source": [
    "Contains some errors and fixed.    \n",
    "1. int iterations = 100_000_000;  to  int iterations = 100000000;\n",
    "2. 1e6.0   to  1e6\n",
    "3. setprecision(12) - added  #include &lt;iomanip>"
   ]
  },
  {
   "cell_type": "code",
   "execution_count": 30,
   "id": "8694dde3-d45a-4a0f-802b-8438cd85ba70",
   "metadata": {},
   "outputs": [],
   "source": [
    "!g++ -o optimized_ollama optimized.cpp"
   ]
  },
  {
   "cell_type": "code",
   "execution_count": 31,
   "id": "219a3893-f113-470b-bdee-5f9aa0c4d1fa",
   "metadata": {},
   "outputs": [
    {
     "name": "stdout",
     "output_type": "stream",
     "text": [
      "Result: 1.716814682820\n",
      "Execution Time: 1.257757 seconds\n"
     ]
    }
   ],
   "source": [
    "!.\\optimized_ollama.exe"
   ]
  },
  {
   "cell_type": "markdown",
   "id": "666af69f-0a9f-434b-9c89-116d176a6021",
   "metadata": {},
   "source": [
    "> **Llama3.2:3b Result is incorrect**"
   ]
  },
  {
   "cell_type": "code",
   "execution_count": 32,
   "id": "fdb70fd6-14ed-4e07-839c-d2fa0d8086b3",
   "metadata": {},
   "outputs": [],
   "source": [
    "python_hard = \"\"\"# Be careful to support large number sizes\n",
    "\n",
    "def lcg(seed, a=1664525, c=1013904223, m=2**32):\n",
    "    value = seed\n",
    "    while True:\n",
    "        value = (a * value + c) % m\n",
    "        yield value\n",
    "        \n",
    "def max_subarray_sum(n, seed, min_val, max_val):\n",
    "    lcg_gen = lcg(seed)\n",
    "    random_numbers = [next(lcg_gen) % (max_val - min_val + 1) + min_val for _ in range(n)]\n",
    "    max_sum = float('-inf')\n",
    "    for i in range(n):\n",
    "        current_sum = 0\n",
    "        for j in range(i, n):\n",
    "            current_sum += random_numbers[j]\n",
    "            if current_sum > max_sum:\n",
    "                max_sum = current_sum\n",
    "    return max_sum\n",
    "\n",
    "def total_max_subarray_sum(n, initial_seed, min_val, max_val):\n",
    "    total_sum = 0\n",
    "    lcg_gen = lcg(initial_seed)\n",
    "    for _ in range(20):\n",
    "        seed = next(lcg_gen)\n",
    "        total_sum += max_subarray_sum(n, seed, min_val, max_val)\n",
    "    return total_sum\n",
    "\n",
    "# Parameters\n",
    "n = 10000         # Number of random numbers\n",
    "initial_seed = 42 # Initial seed for the LCG\n",
    "min_val = -10     # Minimum value of random numbers\n",
    "max_val = 10      # Maximum value of random numbers\n",
    "\n",
    "# Timing the function\n",
    "import time\n",
    "start_time = time.time()\n",
    "result = total_max_subarray_sum(n, initial_seed, min_val, max_val)\n",
    "end_time = time.time()\n",
    "\n",
    "print(\"Total Maximum Subarray Sum (20 runs):\", result)\n",
    "print(\"Execution Time: {:.6f} seconds\".format(end_time - start_time))\n",
    "\"\"\""
   ]
  },
  {
   "cell_type": "markdown",
   "id": "e4865ff7-a84a-4da1-aa48-c336a48289a1",
   "metadata": {},
   "source": [
    "# Stream"
   ]
  },
  {
   "cell_type": "code",
   "execution_count": 33,
   "id": "0716004d-c836-4939-a120-a7442b455819",
   "metadata": {},
   "outputs": [],
   "source": [
    "def stream_gpt(python):    \n",
    "    stream = openai.chat.completions.create(model=OPENAI_MODEL, messages=messages_for(python), stream=True)\n",
    "    reply = \"\"\n",
    "    for chunk in stream:\n",
    "        fragment = chunk.choices[0].delta.content or \"\"\n",
    "        reply += fragment\n",
    "        yield reply.replace('```cpp\\n','').replace('```','')"
   ]
  },
  {
   "cell_type": "code",
   "execution_count": 34,
   "id": "0444ec89-9a7d-44b3-9a8f-8289a38441dd",
   "metadata": {},
   "outputs": [],
   "source": [
    "def stream_claude(python): \n",
    "    result = claude.messages.stream(\n",
    "        model=CLAUDE_MODEL, \n",
    "        max_tokens=2000, \n",
    "        system=system_message, \n",
    "        messages=[{'role':\"user\", 'content': user_prompt_for(python) }], \n",
    "    ) \n",
    "    reply = \"\" \n",
    "    with result as stream: \n",
    "        for text in stream.text_stream: \n",
    "            reply += text \n",
    "            yield reply.replace('```cpp\\n','').replace('```', '')"
   ]
  },
  {
   "cell_type": "code",
   "execution_count": 35,
   "id": "fabc952d-a05c-4e8a-bd35-04dd1de5f436",
   "metadata": {},
   "outputs": [],
   "source": [
    "def stream_google(python):\n",
    "    gemini = google.generativeai.GenerativeModel(model_name='gemini-2.0-flash', system_instruction=system_message)\n",
    "    response = gemini.generate_content(user_prompt_for(python), stream=True)\n",
    "    reply = \"\"\n",
    "\n",
    "    for chunk in response:\n",
    "        if chunk.text:\n",
    "            reply += chunk.text\n",
    "            #print(chunk.text, end=\"\", flush=True)\n",
    "            yield reply.replace('```cpp\\n','').replace('```', '')\n"
   ]
  },
  {
   "cell_type": "code",
   "execution_count": 36,
   "id": "86eafa16-395e-4747-813b-4fb1f1027b4e",
   "metadata": {},
   "outputs": [],
   "source": [
    "def stream_ollama(python): \n",
    "    stream = ollama.chat(model=OLLAMA_MODEL, messages=messages_for(python) , stream=True)\n",
    "    reply=\"\"\n",
    "    for chunk in stream:\n",
    "        if chunk != None:\n",
    "            fragment = chunk['message']['content']\n",
    "            reply += fragment\n",
    "            yield reply.replace('```cpp\\n','').replace('```', '')"
   ]
  },
  {
   "cell_type": "code",
   "execution_count": 41,
   "id": "b1929ce5-d09c-4d61-89b9-6ae3664b48f3",
   "metadata": {},
   "outputs": [],
   "source": [
    "def optimize(python, model): \n",
    "    if model == \"GPT\": \n",
    "        result = stream_gpt(python) \n",
    "    elif model == \"Claude\": \n",
    "        result = stream_claude(python) \n",
    "    elif model == \"Google\": \n",
    "        result = stream_google(python) \n",
    "    elif model == \"Ollama\": \n",
    "        result = stream_ollama(python) \n",
    "    else: \n",
    "        raise ValueError(\"Unknown model\") \n",
    "    for stream_so_far in result: \n",
    "        yield stream_so_far"
   ]
  },
  {
   "cell_type": "code",
   "execution_count": 37,
   "id": "3e51f1a9-e717-4aa9-b70d-ab223ba1ac3c",
   "metadata": {},
   "outputs": [],
   "source": [
    "def execute_python(code): \n",
    "    try: \n",
    "        output=io.StringIO() \n",
    "        sys.stdout = output \n",
    "        exec(code) \n",
    "    finally: \n",
    "        sys.stdout = sys.__stdout__ \n",
    "    return output.getvalue() "
   ]
  },
  {
   "cell_type": "code",
   "execution_count": 38,
   "id": "009dd0ed-3686-47d8-9607-4e856df8c5ac",
   "metadata": {},
   "outputs": [],
   "source": [
    "def execute_cpp(code):  \n",
    "    write_output(code)  \n",
    "    try: \n",
    "        # compile_cmd = [\"clang++\", \"-Ofast\", \"-std=c++17\", \"-march=armv8.5-a\", \"-mtune=apple-m1\", \"-mcpu=apple-m1\", \"-o\", \"optimized\", \"optimized.cpp\"] \n",
    "        compile_cmd = [\"g++\", \"-o\", \"optimized\", \"optimized.cpp\"] \n",
    "        compile_result = subprocess.run(compile_cmd, check=True, text=True, capture_output=True) \n",
    "        run_cmd = [\"./optimized\"]  \n",
    "        run_result = subprocess.run(run_cmd, check=True, text=True, capture_output=True) \n",
    "        return run_result.stdout \n",
    "    except subprocess.CalledProcessError as e: \n",
    "        return f\"An error occured:\\n{e.stderr}\""
   ]
  },
  {
   "cell_type": "code",
   "execution_count": 39,
   "id": "bfcbe534-c9f4-45b8-a2f5-14a3be21bdb4",
   "metadata": {},
   "outputs": [],
   "source": [
    "css= \"\"\" \n",
    ".python {background-color: #306998;} \n",
    ".cpp {background-color: #050;}\n",
    "\"\"\""
   ]
  },
  {
   "cell_type": "code",
   "execution_count": 42,
   "id": "038eedc6-4cea-498c-b88a-4f1d8d3ec8b6",
   "metadata": {},
   "outputs": [
    {
     "name": "stdout",
     "output_type": "stream",
     "text": [
      "* Running on local URL:  http://127.0.0.1:7871\n",
      "\n",
      "To create a public link, set `share=True` in `launch()`.\n"
     ]
    },
    {
     "data": {
      "text/html": [
       "<div><iframe src=\"http://127.0.0.1:7871/\" width=\"100%\" height=\"500\" allow=\"autoplay; camera; microphone; clipboard-read; clipboard-write;\" frameborder=\"0\" allowfullscreen></iframe></div>"
      ],
      "text/plain": [
       "<IPython.core.display.HTML object>"
      ]
     },
     "metadata": {},
     "output_type": "display_data"
    },
    {
     "data": {
      "text/plain": []
     },
     "execution_count": 42,
     "metadata": {},
     "output_type": "execute_result"
    }
   ],
   "source": [
    "with gr.Blocks(css=css) as ui: \n",
    "    gr.Markdown(\"# Convert code from Python to C++\") \n",
    "    with gr.Row(): \n",
    "        python = gr.Textbox(label=\"Python code:\", value=pi, lines=10) \n",
    "        cpp=gr.Textbox(label=\"C++ code:\", lines=10) \n",
    "    with gr.Row(): \n",
    "        model=gr.Dropdown([\"GPT\", \"Claude\", \"Google\", \"Ollama\"], label=\"Select model\", value=\"GPT\")  \n",
    "    with gr.Row(): \n",
    "        convert=gr.Button(\"Convert Code\") \n",
    "    with gr.Row(): \n",
    "        python_run = gr.Button(\"Run Python\") \n",
    "        cpp_run = gr.Button(\"Run C++\")\n",
    "    with gr.Row(): \n",
    "        python_out=gr.TextArea(label=\"Python result:\", elem_classes=[\"python\"]) \n",
    "        cpp_out=gr.TextArea(label=\"C++ resultL\", elem_classes=[\"cpp\"]) \n",
    "\n",
    "    convert.click(optimize, inputs=[python, model], outputs=[cpp]) \n",
    "    python_run.click(execute_python, inputs=[python], outputs=[python_out]) \n",
    "    cpp_run.click(execute_cpp, inputs=[cpp], outputs=[cpp_out]) \n",
    "\n",
    "ui.launch(inbrowser=True)"
   ]
  },
  {
   "cell_type": "code",
   "execution_count": null,
   "id": "878b14c3-c99c-47f2-80a4-8e000fe73334",
   "metadata": {},
   "outputs": [],
   "source": []
  },
  {
   "cell_type": "code",
   "execution_count": null,
   "id": "6b3250dd-bc00-4c5a-b593-1ff5e20bb5dd",
   "metadata": {},
   "outputs": [],
   "source": []
  }
 ],
 "metadata": {
  "kernelspec": {
   "display_name": "Python 3 (ipykernel)",
   "language": "python",
   "name": "python3"
  },
  "language_info": {
   "codemirror_mode": {
    "name": "ipython",
    "version": 3
   },
   "file_extension": ".py",
   "mimetype": "text/x-python",
   "name": "python",
   "nbconvert_exporter": "python",
   "pygments_lexer": "ipython3",
   "version": "3.10.11"
  }
 },
 "nbformat": 4,
 "nbformat_minor": 5
}
