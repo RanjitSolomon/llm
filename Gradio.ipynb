{
 "cells": [
  {
   "cell_type": "code",
   "execution_count": 1,
   "id": "c5a42351-68fe-4005-9375-5a9756460d6b",
   "metadata": {},
   "outputs": [],
   "source": [
    "#!pip install gradio"
   ]
  },
  {
   "cell_type": "code",
   "execution_count": 2,
   "id": "b8b2a25e-8f4e-4074-8b38-0fb6e425f9d6",
   "metadata": {},
   "outputs": [],
   "source": [
    "import os \n",
    "import requests \n",
    "import openai \n",
    "import anthropic \n",
    "import google.generativeai \n",
    "from bs4 import BeautifulSoup \n",
    "from dotenv import load_dotenv \n",
    "from typing import List\n",
    "\n",
    "import gradio as gr"
   ]
  },
  {
   "cell_type": "code",
   "execution_count": 3,
   "id": "0c0d1237-76e6-4103-9545-47956795cb3b",
   "metadata": {},
   "outputs": [],
   "source": [
    "load_dotenv()\n",
    "os.environ[\"OPENAI_API_KEY\"] = os.getenv(\"OPENAI_API_KEY\")\n",
    "os.environ[\"ANTHROPIC_API_KEY\"] = os.getenv(\"ANTHROPIC_API_KEY\")\n",
    "os.environ[\"GOOGLE_API_KEY\"] = os.getenv(\"GOOGLE_API_KEY\")"
   ]
  },
  {
   "cell_type": "code",
   "execution_count": 4,
   "id": "e0dccece-eb2c-42b8-ba43-ecc68ef19d74",
   "metadata": {},
   "outputs": [],
   "source": [
    "openai = openai.OpenAI() \n",
    "claude = anthropic.Anthropic() \n",
    "google.generativeai.configure()"
   ]
  },
  {
   "cell_type": "code",
   "execution_count": 5,
   "id": "df260c6e-2d90-4801-b2c3-4253ffce3b02",
   "metadata": {},
   "outputs": [],
   "source": [
    "system_message = \"You are helpful assistant\""
   ]
  },
  {
   "cell_type": "code",
   "execution_count": 6,
   "id": "1f5ecb32-031e-4b7f-88da-70fd998f0c31",
   "metadata": {},
   "outputs": [],
   "source": [
    "def gpt_message(prompt):\n",
    "    messages = [\n",
    "        {'role': 'system', 'content': system_message}, \n",
    "        {'role': 'user', 'content': prompt}\n",
    "    ]\n",
    "    result = openai.chat.completions.create(model='gpt-4o-mini', messages=messages) \n",
    "    return completions.choics[0].message.content"
   ]
  },
  {
   "cell_type": "code",
   "execution_count": 7,
   "id": "c48a2b48-0182-4473-adb0-edfd60df439b",
   "metadata": {},
   "outputs": [],
   "source": [
    "def shout(text):\n",
    "    return text.upper()"
   ]
  },
  {
   "cell_type": "code",
   "execution_count": 8,
   "id": "29e12610-0a17-467f-b840-e8eae74c6054",
   "metadata": {},
   "outputs": [
    {
     "name": "stdout",
     "output_type": "stream",
     "text": [
      "* Running on local URL:  http://127.0.0.1:7860\n",
      "\n",
      "To create a public link, set `share=True` in `launch()`.\n"
     ]
    },
    {
     "data": {
      "text/html": [
       "<div><iframe src=\"http://127.0.0.1:7860/\" width=\"100%\" height=\"500\" allow=\"autoplay; camera; microphone; clipboard-read; clipboard-write;\" frameborder=\"0\" allowfullscreen></iframe></div>"
      ],
      "text/plain": [
       "<IPython.core.display.HTML object>"
      ]
     },
     "metadata": {},
     "output_type": "display_data"
    },
    {
     "data": {
      "text/plain": []
     },
     "execution_count": 8,
     "metadata": {},
     "output_type": "execute_result"
    }
   ],
   "source": [
    "# gr.Interface(fn=shout, inputs=\"textbox\", outputs=\"textbox\").launch()\n",
    "## Created dataset file at: .gradio\\flagged\\dataset1.csv\n",
    "## to remove 'flagged' folder inside 'gradio' folder \n",
    "gr.Interface(fn=shout, inputs=\"textbox\", outputs=\"textbox\", flagging_mode='never').launch() \n",
    "## to create a public access\n",
    "# gr.Interface(fn=shout, inputs=\"textbox\", outputs=\"textbox\", flagging_mode=\"never\").launch(share=True)"
   ]
  },
  {
   "cell_type": "markdown",
   "id": "e9ce05a6-12be-48d7-b2d0-4c10cba36c18",
   "metadata": {},
   "source": [
    "#### Text box with lines \n",
    "    inputs=[gr.Textbox(label=\"Your message\", lines=6)],            \n",
    "    outputs=[gr.Textbox(label=\"Response:\", lines=8)],       "
   ]
  },
  {
   "cell_type": "markdown",
   "id": "8e715cb9-8584-4131-ac24-21743b21f53b",
   "metadata": {},
   "source": [
    "#### Response in Markdown"
   ]
  },
  {
   "cell_type": "code",
   "execution_count": 9,
   "id": "a5f25148-01d2-4622-aa28-bbe121f312fc",
   "metadata": {},
   "outputs": [],
   "source": [
    "system_message = \"You are a helpful assistant that responds in markdown\""
   ]
  },
  {
   "cell_type": "markdown",
   "id": "da428290-6980-4408-9b9b-ba1cc9321796",
   "metadata": {},
   "source": [
    "### Streaming"
   ]
  },
  {
   "cell_type": "code",
   "execution_count": 10,
   "id": "828790be-5055-4369-add4-25daf6e6d94b",
   "metadata": {},
   "outputs": [],
   "source": [
    "def gpt_stream(prompt): \n",
    "    messages = [{'role': 'system', 'content': system_message},{'role':'user', 'content': prompt}] \n",
    "    stream = openai.chat.completions.create(model='gpt-4o-mini', messages=messages, stream=True) \n",
    "\n",
    "    result=\"\"\n",
    "    for chunk in stream:\n",
    "        result += chunk.choices[0].delta.content or \"\" \n",
    "        yield result"
   ]
  },
  {
   "cell_type": "code",
   "execution_count": 11,
   "id": "1df2ef30-5c5a-4f89-9828-ebf77c8e2e28",
   "metadata": {},
   "outputs": [],
   "source": [
    "def claude_stream(prompt):\n",
    "    stream_claude = claude.messages.stream(\n",
    "        model=\"claude-3-haiku-20240307\",\n",
    "        max_tokens=500,\n",
    "        temperature=0.7,\n",
    "        system=system_message,\n",
    "        messages=[{'role': 'user', 'content': prompt}]\n",
    "    )\n",
    "    response =\"\"\n",
    "    with stream_claude as stream: \n",
    "        for text in stream.text_stream: \n",
    "            response += text or \"\" \n",
    "            yield response"
   ]
  },
  {
   "cell_type": "code",
   "execution_count": 12,
   "id": "d83ccc37-a6e6-4f36-bbff-d1ebe6733d6b",
   "metadata": {},
   "outputs": [],
   "source": [
    "def gemini_stream(prompt):\n",
    "    #google.generativeai.configure(api_key=\"GOOGLE_API_KEY\")\n",
    "    model = google.generativeai.GenerativeModel(\"gemini-1.5-flash\")\n",
    "    response = model.generate_content(prompt, stream=True)\n",
    "\n",
    "    results=\"\"\n",
    "    for chunk in response:\n",
    "        results += chunk.text or \"\"\n",
    "        #print(chunk.text, end=\"\")\n",
    "        yield results\n",
    "    "
   ]
  },
  {
   "cell_type": "code",
   "execution_count": 13,
   "id": "6960d1f0-1603-475f-b26f-32a78913a00d",
   "metadata": {},
   "outputs": [],
   "source": [
    "def stream_model(prompt, model): \n",
    "    if model==\"GPT\": \n",
    "        result = gpt_stream(prompt) \n",
    "    elif model==\"Claude\": \n",
    "        result = claude_stream(prompt) \n",
    "    elif model==\"Gemini\":\n",
    "        result = gemini_stream(prompt)\n",
    "    else: \n",
    "        raise ValueError(\"Unknown model\") \n",
    "\n",
    "    for chunk in result: \n",
    "        yield chunk "
   ]
  },
  {
   "cell_type": "code",
   "execution_count": 14,
   "id": "8e2d59f4-a08a-4cb4-b25d-568bd010edfe",
   "metadata": {},
   "outputs": [
    {
     "name": "stdout",
     "output_type": "stream",
     "text": [
      "* Running on local URL:  http://127.0.0.1:7861\n",
      "\n",
      "To create a public link, set `share=True` in `launch()`.\n"
     ]
    },
    {
     "data": {
      "text/html": [
       "<div><iframe src=\"http://127.0.0.1:7861/\" width=\"100%\" height=\"500\" allow=\"autoplay; camera; microphone; clipboard-read; clipboard-write;\" frameborder=\"0\" allowfullscreen></iframe></div>"
      ],
      "text/plain": [
       "<IPython.core.display.HTML object>"
      ]
     },
     "metadata": {},
     "output_type": "display_data"
    },
    {
     "data": {
      "text/plain": []
     },
     "execution_count": 14,
     "metadata": {},
     "output_type": "execute_result"
    }
   ],
   "source": [
    "view = gr.Interface(\n",
    "    fn=stream_model, \n",
    "    inputs=[gr.Textbox(label=\"Your message:\"), gr.Dropdown(['GPT', 'Claude', 'Gemini'], label=\"Select Model\") ],\n",
    "    outputs=[gr.Markdown(label=\"Response:\")], \n",
    "    flagging_mode=\"never\"\n",
    ")\n",
    "view.launch()"
   ]
  },
  {
   "cell_type": "markdown",
   "id": "c52261f8-428c-4b8b-ac3a-0a46c08fa107",
   "metadata": {},
   "source": [
    "## Building a company brochure generator "
   ]
  },
  {
   "cell_type": "code",
   "execution_count": 15,
   "id": "d39fa421-eb24-414c-aafd-ca4fae98de6b",
   "metadata": {},
   "outputs": [],
   "source": [
    "class Website: \n",
    "    url: str \n",
    "    title: str\n",
    "    text: str\n",
    "\n",
    "    def __init__(self, url): \n",
    "        self.url = url \n",
    "        request = requests.get(url) \n",
    "        self.body = request.content \n",
    "        soup = BeautifulSoup(self.body, \"html.parser\")\n",
    "        self.title = soup.title.string if soup.title else \"Title Not Found\"\n",
    "        for irrelevant in soup.body(['script', 'style', 'img', 'input']):\n",
    "            irrelevant.decompose()\n",
    "        self.text = soup.body.get_text(separator=\"\\n\", strip=True)\n",
    "\n",
    "    def get_contents(self): \n",
    "        return f\"Webpage Title:\\n{self.title}\\nWebpage Contents:\\n{self.text}\\n\\n\""
   ]
  },
  {
   "cell_type": "code",
   "execution_count": 16,
   "id": "196132dc-bf16-4bd7-bb05-ec028d174e82",
   "metadata": {},
   "outputs": [],
   "source": [
    "system_prompt = \"You are an assistant tha analyzes the contents of a company website landing page and creates a short brochure about a company for prospective customers, investors and recruits. Respond in markdown\""
   ]
  },
  {
   "cell_type": "code",
   "execution_count": 17,
   "id": "26380527-8d9d-443e-9f2d-6d20cd40d456",
   "metadata": {},
   "outputs": [],
   "source": [
    "def stream_brochure(company_name, url, model): \n",
    "    prompt=f\"Please generate a company brochure for {company_name}. Here is their landing page:\\n\" \n",
    "    prompt += Website(url).get_contents() \n",
    "    if model==\"GPT\": \n",
    "        result=gpt_stream(prompt)  \n",
    "    elif model==\"Claude\": \n",
    "        result=claude_stream(prompt) \n",
    "    elif model==\"Gemini\":\n",
    "        result=gemini_stream(prompt)\n",
    "    else: \n",
    "        raise ValueError(\"Unknow model\") \n",
    "\n",
    "    for chunk in result: \n",
    "        yield chunk \n"
   ]
  },
  {
   "cell_type": "code",
   "execution_count": 18,
   "id": "ae56fa98-3c18-443f-842a-d7c1b0255b04",
   "metadata": {},
   "outputs": [
    {
     "name": "stdout",
     "output_type": "stream",
     "text": [
      "* Running on local URL:  http://127.0.0.1:7862\n",
      "\n",
      "To create a public link, set `share=True` in `launch()`.\n"
     ]
    },
    {
     "data": {
      "text/html": [
       "<div><iframe src=\"http://127.0.0.1:7862/\" width=\"100%\" height=\"500\" allow=\"autoplay; camera; microphone; clipboard-read; clipboard-write;\" frameborder=\"0\" allowfullscreen></iframe></div>"
      ],
      "text/plain": [
       "<IPython.core.display.HTML object>"
      ]
     },
     "metadata": {},
     "output_type": "display_data"
    },
    {
     "data": {
      "text/plain": []
     },
     "execution_count": 18,
     "metadata": {},
     "output_type": "execute_result"
    }
   ],
   "source": [
    "view = gr.Interface(\n",
    "    fn=stream_brochure, \n",
    "    inputs=[\n",
    "        gr.Textbox(label=\"Company name: \"),  \n",
    "        gr.Textbox(label=\"Landing page URL:\"), \n",
    "        gr.Dropdown([\"GPT\", \"Claude\", \"Gemini\"], label=\"Select model\") \n",
    "    ], \n",
    "    outputs=[gr.Markdown(label=\"Brochure: \")], \n",
    "    flagging_mode=\"never\"\n",
    ")\n",
    "view.launch()"
   ]
  },
  {
   "cell_type": "code",
   "execution_count": null,
   "id": "81a25089-fa85-4765-b1d7-0a166a7b5952",
   "metadata": {},
   "outputs": [],
   "source": []
  },
  {
   "cell_type": "code",
   "execution_count": null,
   "id": "81b08502-c1c3-4a31-a9f0-bb0adcc14c96",
   "metadata": {},
   "outputs": [],
   "source": []
  }
 ],
 "metadata": {
  "kernelspec": {
   "display_name": "Python 3 (ipykernel)",
   "language": "python",
   "name": "python3"
  },
  "language_info": {
   "codemirror_mode": {
    "name": "ipython",
    "version": 3
   },
   "file_extension": ".py",
   "mimetype": "text/x-python",
   "name": "python",
   "nbconvert_exporter": "python",
   "pygments_lexer": "ipython3",
   "version": "3.11.3"
  }
 },
 "nbformat": 4,
 "nbformat_minor": 5
}
