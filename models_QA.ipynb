{
 "cells": [
  {
   "cell_type": "code",
   "execution_count": 1,
   "id": "d87ff2db-60c9-42eb-b9ec-fe4138e15b7f",
   "metadata": {},
   "outputs": [],
   "source": [
    "#!python -m pip install cohere --upgrade\n",
    "#!pip install -q -U google-generativeai\n",
    "#!pip install anthropic"
   ]
  },
  {
   "cell_type": "code",
   "execution_count": 2,
   "id": "eefbb025-a8bd-4872-90cf-7cb322c3c6a1",
   "metadata": {},
   "outputs": [],
   "source": [
    "import os \n",
    "import ollama \n",
    "import cohere \n",
    "import anthropic \n",
    "from openai import OpenAI\n",
    "import google.generativeai as genai\n",
    "from dotenv import load_dotenv \n",
    "from IPython.display import Markdown, display, update_display"
   ]
  },
  {
   "cell_type": "code",
   "execution_count": 3,
   "id": "35268c4f-2e25-4b40-9058-143697a92a42",
   "metadata": {},
   "outputs": [
    {
     "data": {
      "text/plain": [
       "True"
      ]
     },
     "execution_count": 3,
     "metadata": {},
     "output_type": "execute_result"
    }
   ],
   "source": [
    "load_dotenv()"
   ]
  },
  {
   "cell_type": "code",
   "execution_count": 4,
   "id": "abd7de05-19ed-4d5f-808b-f56235fbd1e1",
   "metadata": {},
   "outputs": [],
   "source": [
    "openai = OpenAI()  \n",
    "co_api_key = os.getenv('COHERE_API_KEY') \n",
    "client = anthropic.Anthropic() \n",
    "GEMINI_API_KEY = os.getenv('GEMINI_API_KEY')"
   ]
  },
  {
   "cell_type": "code",
   "execution_count": 5,
   "id": "36ce5c44-df79-4fee-a5f7-f3c40fff10a9",
   "metadata": {},
   "outputs": [],
   "source": [
    "system_prompt = \"You are a helpful technical tutor who answers questions about python code, software engineering, data science and LLMs\""
   ]
  },
  {
   "cell_type": "code",
   "execution_count": 6,
   "id": "08050555-c305-493f-ac75-bad64e859948",
   "metadata": {},
   "outputs": [],
   "source": [
    "user_prompt = \"Please give a detailed explanation to the following question: \""
   ]
  },
  {
   "cell_type": "code",
   "execution_count": 7,
   "id": "24b11bf7-5eed-4a03-bed5-0465a8941fe6",
   "metadata": {},
   "outputs": [],
   "source": [
    "my_question = \"Please enter your question: Please explain what this code does and why: yield from {book.get('author') for book in books if book.get('author')}\""
   ]
  },
  {
   "cell_type": "code",
   "execution_count": 8,
   "id": "751662ab-182c-447c-9fcc-6a5aace36d6f",
   "metadata": {},
   "outputs": [],
   "source": [
    "def get_openai_response(question): \n",
    "    messages= [{\"role\": \"system\", \"content\": system_prompt}, {\"role\": \"user\", \"content\": user_prompt + question}]\n",
    "    \n",
    "    stream = openai.chat.completions.create(model='gpt-4o-mini', messages=messages,stream=True)\n",
    "    \n",
    "    response = \"# OpenAI Response \\n\\n\"\n",
    "    display_handle = display(Markdown(\"\"), display_id=True)\n",
    "    for chunk in stream:\n",
    "        response += chunk.choices[0].delta.content or ''\n",
    "        response = response.replace(\"```\",\"\").replace(\"markdown\", \"\")\n",
    "        update_display(Markdown(response), display_id=display_handle.display_id)"
   ]
  },
  {
   "cell_type": "code",
   "execution_count": 9,
   "id": "cf74ab1d-55a8-44e1-b957-a939458f28fa",
   "metadata": {},
   "outputs": [],
   "source": [
    "def get_ollama_response(question): \n",
    "    messages = [{\"role\": \"system\", \"content\": system_prompt}, {\"role\": \"user\", \"content\": user_prompt + question}] \n",
    "\n",
    "    response = \"\"\n",
    "    response = ollama.chat(model=\"llama3.2\", messages=messages)\n",
    "    reply = f\"# Ollama Response \\n\\n {response['message']['content']} \"\n",
    "    display(Markdown(reply))"
   ]
  },
  {
   "cell_type": "code",
   "execution_count": 10,
   "id": "9aa11067-de89-4329-951c-4e6e6c1037c1",
   "metadata": {},
   "outputs": [],
   "source": [
    "def get_anthropic_response(question): \n",
    "    client = anthropic.Anthropic() \n",
    "    \n",
    "    response = client.messages.create(\n",
    "    model=\"claude-3-5-sonnet-20241022\",\n",
    "    max_tokens=1000,\n",
    "    temperature=0,\n",
    "    system= system_prompt,   \n",
    "    messages=[{\"role\": \"user\", \"content\": [{\"type\": \"text\",\"text\": question}]}]\n",
    "    )\n",
    " \n",
    "    reply = f\"# Anthropic Response \\n\\n{response.content[0].text}\"\n",
    "    display(Markdown(reply))"
   ]
  },
  {
   "cell_type": "code",
   "execution_count": 11,
   "id": "6a9a191d-3bd1-4e2b-9cba-5ceb9856768f",
   "metadata": {},
   "outputs": [],
   "source": [
    "def get_cohere_response(question): \n",
    "    co = cohere.ClientV2(co_api_key)\n",
    "    messages= [{\"role\": \"system\", \"content\": system_prompt}, {\"role\": \"user\", \"content\": user_prompt + question}] \n",
    "\n",
    "    response = co.chat(\n",
    "        model=\"command-r-plus\", \n",
    "        messages=messages\n",
    "    )\n",
    "    #print(response.message.content[0].text) \n",
    "    reply = f\"# Cohere Response\\n\\n {response.message.content[0].text}\" \n",
    "    display(Markdown(reply))"
   ]
  },
  {
   "cell_type": "code",
   "execution_count": 12,
   "id": "5e10f500-a317-4791-b5ea-9fd317ae98b0",
   "metadata": {},
   "outputs": [],
   "source": [
    "def get_gemini_response(question): \n",
    "    genai.configure(api_key=GEMINI_API_KEY)\n",
    "    model = genai.GenerativeModel(\"gemini-1.5-flash\")\n",
    "    response = model.generate_content(my_question)\n",
    "    #print(response.text)\n",
    "    resp = f\"# Gemini Response \\n\\n{response.text}\"\n",
    "    display(Markdown(resp))"
   ]
  },
  {
   "cell_type": "code",
   "execution_count": 13,
   "id": "7e54a2b9-fe79-4a48-8740-acb2a0277276",
   "metadata": {},
   "outputs": [
    {
     "data": {
      "text/markdown": [
       "# OpenAI Response \n",
       "\n",
       "Certainly! Let's break down the provided line of code step by step to understand what it does, and then we'll discuss why it might be implemented in this way.\n",
       "\n",
       "### Code Analysis\n",
       "\n",
       "The code you're looking at is a Python generator expression using the `yield from` statement:\n",
       "python\n",
       "yield from {book.get('author') for book in books if book.get('author')}\n",
       "\n",
       "\n",
       "#### Components of the Code\n",
       "\n",
       "1. **`{ ... }`**: \n",
       "   - This denotes a set comprehension in Python. Set comprehensions are similar to list comprehensions but create a set (an unordered collection of unique elements) instead of a list.\n",
       "\n",
       "2. **`book.get('author')`**:\n",
       "   - This part is used to access the value associated with the key `'author'` in each `book` dictionary. The `get` method is a safe way to retrieve values from a dictionary; if the key does not exist, it returns `None` (instead of raising a `KeyError`).\n",
       "   \n",
       "3. **`for book in books`**:\n",
       "   - This loops through each `book` in the iterable `books`. `books` is expected to be a collection of dictionaries, each representing a book with various attributes, including the `'author'`.\n",
       "\n",
       "4. **`if book.get('author')`**:\n",
       "   - This condition filters the books. It ensures that only books with a valid (non-`None`) `'author'` value are processed. If `book.get('author')` returns a truthy value (i.e., any non-empty string), the corresponding author is included in the resulting set.\n",
       "\n",
       "5. **`yield from`**:\n",
       "   - The `yield from` statement is used within a generator function to yield all values from an iterable. When it encounters the set comprehension on its right side, it will yield each unique author retrieved from the books.\n",
       "\n",
       "#### Overall Functionality\n",
       "\n",
       "The overall functionality of this line of code is to create a set of unique authors from a collection of books and yield each author one by one. The use of `set` ensures that each author will only appear once in the output, even if multiple books have the same author.\n",
       "\n",
       "### Why Use This Code?\n",
       "\n",
       "1. **Uniqueness**: \n",
       "   - By using a set comprehension, the code automatically filters out duplicate authors. If you only used a list comprehension instead, you would have to handle duplicates manually.\n",
       "\n",
       "2. **Efficiency**:\n",
       "   - The generator allows for on-demand generation of authors. This can be more memory efficient, especially if `books` is a large collection, because it does not require storing all the authors in memory at once.\n",
       "\n",
       "3. **Readability**:\n",
       "   - The use of `yield from` combined with set comprehensions keeps the code concise and expressive. It clearly communicates that the intent is to extract unique authors from a possibly large collection of books in a single line.\n",
       "\n",
       "### Example in Context\n",
       "\n",
       "Imagine you have the following list of books:\n",
       "python\n",
       "books = [\n",
       "    {'title': 'Book 1', 'author': 'Author A'},\n",
       "    {'title': 'Book 2', 'author': 'Author B'},\n",
       "    {'title': 'Book 3', 'author': 'Author A'},\n",
       "    {'title': 'Book 4', 'author': None},\n",
       "    {'title': 'Book 5', 'author': 'Author C'},\n",
       "]\n",
       "\n",
       "\n",
       "If you run the line of code you provided in a generator function:\n",
       "python\n",
       "def get_unique_authors(books):\n",
       "    yield from {book.get('author') for book in books if book.get('author')}\n",
       "\n",
       "\n",
       "And then iterate over the results, you would get the output:\n",
       "plaintext\n",
       "Author A\n",
       "Author B\n",
       "Author C\n",
       "\n",
       "\n",
       "### Conclusion\n",
       "\n",
       "The combination of set comprehension and the `yield from` statement allows for extracting and yielding unique author names from a list of book dictionaries efficiently and in a clean manner. This example illustrates an elegant approach to data extraction while ensuring uniqueness and maintaining readability."
      ],
      "text/plain": [
       "<IPython.core.display.Markdown object>"
      ]
     },
     "metadata": {},
     "output_type": "display_data"
    },
    {
     "data": {
      "text/markdown": [
       "# Ollama Response \n",
       "\n",
       " **Deconstructing a Generative Expression**\n",
       "\n",
       "The given code snippet is an example of a generative expression in Python, utilizing the `yield from` syntax. Let's break it down to understand what it does.\n",
       "\n",
       "```python\n",
       "def get_authors(books):\n",
       "    return {book.get('author') for book in books if book.get('author')}\n",
       "```\n",
       "\n",
       "This function takes a list of dictionaries (`books`) as input and returns a set of authors found in the dictionary. However, the code snippet provided doesn't contain this entire function; instead, it uses `yield from` to generate values on-the-fly.\n",
       "\n",
       "**The Code Snippet**\n",
       "\n",
       "```python\n",
       "yield from {book.get('author') for book in books if book.get('author')}\n",
       "```\n",
       "\n",
       "Here's what happens when you run this code:\n",
       "\n",
       "1. **Generator Expression**: The `{... for ...}` part is a generator expression, which creates an iterator that yields values one at a time.\n",
       "2. **Set Comprehension**: The `for` clause iterates over the `books` list and applies the condition `if book.get('author')`. This filters out any books without an author.\n",
       "3. **Dictionary Lookup**: Inside the comprehension, `.get('author')` retrieves the value associated with the key `'author'` for each book in the filtered list. If no such key exists, `.get()` returns `None`.\n",
       "4. **Yielding Values**: The generator expression uses these values to create a set of authors.\n",
       "\n",
       "**How `yield from` Works**\n",
       "\n",
       "The `yield from` statement is used to delegate to a subgenerator or an iterator. When you use `yield from`, the current function yields values one at a time, just like a regular `yield` statement. However, instead of storing all yielded values in memory, it allows the next iteration to start with the last value yielded.\n",
       "\n",
       "In this case, when we see `yield from {...}`, Python knows that:\n",
       "\n",
       "* The expression `{...}` is an iterator (the set comprehension).\n",
       "* We want the function to delegate control to the sub-generator.\n",
       "* Instead of collecting all values in a list or tuple, we want to yield them one at a time.\n",
       "\n",
       "**Equivalent Implementation**\n",
       "\n",
       "To make the code more readable and maintainable, you can rewrite it using `yield` instead of `yield from`:\n",
       "\n",
       "```python\n",
       "def get_authors(books):\n",
       "    for book in books:\n",
       "        if book.get('author'):\n",
       "            yield book['author']\n",
       "```\n",
       "\n",
       "This implementation yields values one at a time, just like the original code snippet. However, it's easier to understand what's happening when we use a regular `yield` statement instead of `yield from`.\n",
       "\n",
       "I hope this explanation helped you grasp what the given code does and why! Let me know if you have any further questions or need more clarification. "
      ],
      "text/plain": [
       "<IPython.core.display.Markdown object>"
      ]
     },
     "metadata": {},
     "output_type": "display_data"
    },
    {
     "data": {
      "text/markdown": [
       "# Anthropic Response \n",
       "\n",
       "Let's break this code down:\n",
       "\n",
       "1. This is a generator expression using `yield from` that processes a collection of `books` (likely a list of dictionaries).\n",
       "\n",
       "2. Let's analyze each part:\n",
       "   - `book.get('author')`: Safely retrieves the 'author' value from each book dictionary\n",
       "   - `for book in books`: Iterates through each book in the books collection\n",
       "   - `if book.get('author')`: Only includes books where the author field exists and is not None\n",
       "   - The `{...}` creates a set, removing any duplicate authors\n",
       "   - `yield from` yields each author one at a time from the resulting set\n",
       "\n",
       "3. Purpose:\n",
       "   - This code generates a unique list of authors from a collection of books\n",
       "   - It skips any books that don't have an author field\n",
       "   - It removes duplicate authors through the set operation\n",
       "   - It yields authors one at a time (lazy evaluation) rather than creating the whole list in memory\n",
       "\n",
       "Example usage:\n",
       "```python\n",
       "books = [\n",
       "    {'title': 'Book1', 'author': 'Smith'},\n",
       "    {'title': 'Book2', 'author': 'Jones'},\n",
       "    {'title': 'Book3', 'author': 'Smith'},\n",
       "    {'title': 'Book4'},  # No author\n",
       "]\n",
       "\n",
       "# Using the generator\n",
       "for author in (yield from {book.get('author') for book in books if book.get('author')}):\n",
       "    print(author)\n",
       "\n",
       "# Output:\n",
       "# Smith\n",
       "# Jones\n",
       "```\n",
       "\n",
       "This is a memory-efficient way to process unique authors, especially useful when dealing with large collections of books."
      ],
      "text/plain": [
       "<IPython.core.display.Markdown object>"
      ]
     },
     "metadata": {},
     "output_type": "display_data"
    },
    {
     "data": {
      "text/markdown": [
       "# Cohere Response\n",
       "\n",
       " The code you provided is a Python generator expression using the `yield from` syntax. Let's break down the code step by step and explain what it does and why:\n",
       "\n",
       "```python\n",
       "yield from {book.get('author') for book in books if book.get('author')}\n",
       "```\n",
       "\n",
       "1. `{book.get('author') for book in books if book.get('author')}`— This part of the code is a set comprehension. It iterates over each `book` in the `books` iterable (which is assumed to be a list of dictionaries). For each `book`, it retrieves the value associated with the key `'author'` using the `get` method. The `if book.get('author')` condition checks if the `'author'` key exists in the `book` dictionary and filters out the books that do not have an author. The result of this set comprehension is a set of author values for all the books that contain an author.\n",
       "\n",
       "   ```python\n",
       "   {\n",
       "     'Eric',  # Author of the first book\n",
       "     'John',  # Author of the second book\n",
       "     ...\n",
       "   }\n",
       "   ```\n",
       "\n",
       "2. `yield from`— The `yield from` syntax is used to delegate iteration to a sub-generator or an iterable. In this case, it is used to iterate over the set of author values obtained from the set comprehension. When `yield from` encounters an iterable (in this case, the set of authors), it effectively iterates over the elements of that iterable and yields them one by one.\n",
       "\n",
       "   So, the overall code will yield each author value from the set comprehension, one at a time. This allows the code to generate a series of author values on-the-fly without storing the entire set of authors in memory upfront.\n",
       "\n",
       "   ```python\n",
       "   yield 'Eric'\n",
       "   yield 'John'\n",
       "   ...\n",
       "   ```\n",
       "\n",
       "The purpose of using a generator expression with `yield from` in this context is to efficiently iterate over a large collection of books and extract unique author values without loading the entire collection into memory. This can be particularly useful when dealing with memory constraints or when you want to process the data in a streaming fashion.\n",
       "\n",
       "In summary, the code retrieves unique author values from a collection of books, filters out books without authors, and yields each author value one by one using a generator expression. This approach provides a memory-efficient way to work with large datasets and enables lazy evaluation, where values are computed only when they are needed."
      ],
      "text/plain": [
       "<IPython.core.display.Markdown object>"
      ]
     },
     "metadata": {},
     "output_type": "display_data"
    },
    {
     "data": {
      "text/markdown": [
       "# Gemini Response \n",
       "\n",
       "This code snippet uses a generator expression within a `yield from` statement to efficiently iterate through a list of dictionaries (`books`), extracting and yielding author names. Let's break it down step-by-step:\n",
       "\n",
       "1. **`books`:** This is assumed to be a list (or iterable) of dictionaries. Each dictionary represents a book and might contain various key-value pairs, including an 'author' key.\n",
       "\n",
       "2. **`book.get('author')`:** This part accesses the value associated with the 'author' key in each `book` dictionary.  The `.get()` method is crucial here because it handles cases where a book dictionary might *not* have an 'author' key.  If the key is missing, `.get()` returns `None` instead of raising a `KeyError`, preventing the code from crashing.\n",
       "\n",
       "3. **`if book.get('author')`:** This condition filters the list. It only includes books where `book.get('author')` evaluates to a true value.  In Python, `None` evaluates to `False`, while any string (a non-empty author name) evaluates to `True`. This ensures that only books with authors are processed.\n",
       "\n",
       "4. **`{book.get('author') for book in books if book.get('author')}`:** This is a *generator expression*. It's a concise way to create a generator that yields author names. It iterates through the `books` list. For each book, if it has an author, the author's name is yielded.  The curly braces `{}`  indicate a set comprehension, which automatically removes duplicates.  If you don't need to remove duplicates, use square brackets `[]` for a list comprehension instead.\n",
       "\n",
       "\n",
       "5. **`yield from ...`:** This is a statement that delegates the iteration to the generator expression. Instead of explicitly looping through the generator and yielding each value individually, `yield from` efficiently handles the iteration, making the code more readable and potentially more performant.\n",
       "\n",
       "\n",
       "**In summary:** The code iterates through a list of book dictionaries. For each book that has an author listed, it yields the author's name.  It efficiently handles missing author entries and removes duplicate author names.  The use of a generator expression and `yield from` makes the code compact and avoids creating a large intermediate list in memory, especially beneficial when dealing with a very large `books` list.\n",
       "\n",
       "\n",
       "**Example:**\n",
       "\n",
       "Let's say `books` is:\n",
       "\n",
       "```python\n",
       "books = [\n",
       "    {'title': 'Book A', 'author': 'Author X'},\n",
       "    {'title': 'Book B', 'author': 'Author Y'},\n",
       "    {'title': 'Book C'},  # Missing author\n",
       "    {'title': 'Book D', 'author': 'Author X'} # Duplicate author\n",
       "]\n",
       "```\n",
       "\n",
       "Then the code:\n",
       "\n",
       "```python\n",
       "author_generator = (yield from {book.get('author') for book in books if book.get('author')})\n",
       "for author in author_generator:\n",
       "    print(author)\n",
       "```\n",
       "\n",
       "Would output:\n",
       "\n",
       "```\n",
       "Author X\n",
       "Author Y\n",
       "```\n",
       "\n",
       "The duplicate \"Author X\" is removed because of the set comprehension.  If you used a list comprehension `[...]` instead, both \"Author X\" entries would be present in the output.\n"
      ],
      "text/plain": [
       "<IPython.core.display.Markdown object>"
      ]
     },
     "metadata": {},
     "output_type": "display_data"
    }
   ],
   "source": [
    "get_openai_response(my_question)\n",
    "get_ollama_response(my_question)\n",
    "get_anthropic_response(my_question)\n",
    "get_cohere_response(my_question)\n",
    "get_gemini_response(my_question)"
   ]
  },
  {
   "cell_type": "code",
   "execution_count": null,
   "id": "8c67b08c-6442-4a01-bd6e-3478ee776490",
   "metadata": {},
   "outputs": [],
   "source": []
  }
 ],
 "metadata": {
  "kernelspec": {
   "display_name": "Python 3 (ipykernel)",
   "language": "python",
   "name": "python3"
  },
  "language_info": {
   "codemirror_mode": {
    "name": "ipython",
    "version": 3
   },
   "file_extension": ".py",
   "mimetype": "text/x-python",
   "name": "python",
   "nbconvert_exporter": "python",
   "pygments_lexer": "ipython3",
   "version": "3.11.3"
  }
 },
 "nbformat": 4,
 "nbformat_minor": 5
}
