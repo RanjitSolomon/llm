{
 "cells": [
  {
   "cell_type": "code",
   "execution_count": 1,
   "id": "45821ee5-3f23-414e-8f2d-0a98a925ff60",
   "metadata": {},
   "outputs": [],
   "source": [
    "import ollama\n",
    "import requests\n",
    "from bs4 import BeautifulSoup \n",
    "from IPython.display import Markdown, display"
   ]
  },
  {
   "cell_type": "code",
   "execution_count": 2,
   "id": "f4c69f96-e2e1-43df-b038-ba7596659737",
   "metadata": {},
   "outputs": [],
   "source": [
    "headers = {\n",
    " \"User-Agent\": \"Mozilla/5.0 (Windows NT 10.0; Win64; x64) AppleWebKit/537.36 (KHTML, like Gecko) Chrome/117.0.0.0 Safari/537.36\"\n",
    "}\n",
    "\n",
    "class Website():\n",
    "    def __init__(self, url):\n",
    "        self.url = url \n",
    "\n",
    "        req = requests.get(self.url, headers=headers)\n",
    "        soup = BeautifulSoup(req.content, \"html.parser\")\n",
    "        self.title = soup.title.string if soup.title else \"No title found\" \n",
    "        for item in soup.body([\"script\", \"style\", \"img\", \"input\"]):\n",
    "            item.decompose() \n",
    "        self.text = soup.body.get_text(separator=\"\\n\", strip=True)"
   ]
  },
  {
   "cell_type": "code",
   "execution_count": 3,
   "id": "4621cf76-7d07-4fde-8dc5-1504a31c2dbc",
   "metadata": {},
   "outputs": [],
   "source": [
    "def msg(website):\n",
    "    system_prompt = \"You are an assistant that analyzes the contents of a website \\\n",
    "and provides a short summary, ignoring text that might be navigation related. \\\n",
    "Respond in markdown.\"\n",
    "\n",
    "    user_prompt = f\"You are looking at a website titled {website.title}\"\n",
    "    user_prompt += \"The contents of this website is as follows; \\\n",
    "please provide a short summary of this website in markdown. \\\n",
    "If it includes news or announcements, then summarize these too.\\n\\n\"\n",
    "    user_prompt += website.text   \n",
    "\n",
    "    return [ {\"role\": \"system\", \"content\": system_prompt},\n",
    "    {\"role\": \"user\", \"content\": user_prompt}]\n",
    "    "
   ]
  },
  {
   "cell_type": "code",
   "execution_count": 4,
   "id": "dbd98ec8-5b5b-4baf-ba3b-de4ae6b663db",
   "metadata": {},
   "outputs": [],
   "source": [
    "def summarizer(website):\n",
    "    sum = ollama.chat(\"llama3.2\", messages=msg(website))\n",
    "    display(Markdown(sum['message']['content']))"
   ]
  },
  {
   "cell_type": "code",
   "execution_count": 5,
   "id": "b8c82bf5-ed5b-4ca1-abfd-b4b4d7763444",
   "metadata": {},
   "outputs": [
    {
     "data": {
      "text/markdown": [
       "Here are the top news stories from CNN:\n",
       "\n",
       "1. **Trump's energy strategy is 'drill baby drill':** President Trump's plan to increase domestic oil production and reduce environmental regulations has sparked concerns among critics who say it will harm the environment.\n",
       "2. **Seniors won't pay more than $2,000 for drugs at the pharmacy starting in January:** The Centers for Medicare & Medicaid Services (CMS) announced that seniors with prescription drug coverage through Medicare Part D will not face higher out-of-pocket costs starting in January.\n",
       "3. **Neil Young pulls out of playing Glastonbury 2025, says it's become a 'corporate turn-off':** Legendary musician Neil Young has cancelled his performance at the upcoming Glastonbury Festival, citing concerns about the festival's increasing commercialization.\n",
       "4. **Brad Pitt and Angelina Jolie settle their divorce:** After years of litigation, the ex-couple have reached an agreement on their divorce settlement, with details still to be disclosed.\n",
       "5. **Israel's population growth slows as residents emigrate amid multi-front war:** The number of babies born in Israel has slowed in recent years due to increased migration from the country, experts say.\n",
       "\n",
       "Additionally, here are some breaking news stories:\n",
       "\n",
       "1. **Prosecutors say 150 pipe bombs found at Virginia man's home in what could be FBI's largest-ever seizure of explosive devices:** Law enforcement officials have announced a major bust involving hundreds of pipe bombs, raising concerns about domestic terrorism.\n",
       "2. **Romania and Bulgaria fully join Europe's borderless travel zone:** The two countries will now allow for passport-free travel with other EU member states.\n",
       "\n",
       "And here are some trending topics:\n",
       "\n",
       "1. **MrBeast and Thea Booysen are engaged:** Popular YouTuber MrBeast has announced his engagement to his long-time partner, Thea Booysen.\n",
       "2. **Single cigarette slashes 20 minutes off your life expectancy, UK research suggests:** A new study from the University of Stirling in Scotland has found that smoking a single cigarette can reduce one's life expectancy by up to 20 minutes.\n",
       "\n",
       "These are just some of the top news stories and trending topics on CNN."
      ],
      "text/plain": [
       "<IPython.core.display.Markdown object>"
      ]
     },
     "metadata": {},
     "output_type": "display_data"
    }
   ],
   "source": [
    "website = Website(\"https://cnn.com\")\n",
    "summarizer(website)"
   ]
  },
  {
   "cell_type": "code",
   "execution_count": 6,
   "id": "746c7ad9-fd68-44f5-8f0b-6a2086cad94d",
   "metadata": {},
   "outputs": [
    {
     "data": {
      "text/markdown": [
       "This appears to be a Canadian news website's homepage. The site features a mix of national and local news, sports, entertainment, business, and lifestyle articles.\n",
       "\n",
       "Here are some key features:\n",
       "\n",
       "1. **Breaking News**: A prominent section displaying the latest news headlines.\n",
       "2. **First Up**: A daily newsletter sign-up section, which allows users to receive the latest news and updates from the Toronto Star.\n",
       "3. **News Tips**: A section where readers can submit tips or suggestions for news stories to the publication.\n",
       "4. **The Star's brand**: The site features a prominent logo and branding elements, including a masthead with contact information and a glossary of terms.\n",
       "\n",
       "Some popular sections on the website include:\n",
       "\n",
       "* **Sports**: News and analysis from Canada's top sports leagues, including the Toronto Raptors and Blue Jays.\n",
       "* **Entertainment**: Movie, TV, music, and arts news.\n",
       "* **Business**: Financial news and analysis for Canadian business leaders and investors.\n",
       "* **Lifestyle**: Health, wellness, and relationships content.\n",
       "\n",
       "Overall, this website appears to be a comprehensive source of news and information for Canadians, with a focus on local stories and issues."
      ],
      "text/plain": [
       "<IPython.core.display.Markdown object>"
      ]
     },
     "metadata": {},
     "output_type": "display_data"
    }
   ],
   "source": [
    "website = Website(\"https://thestar.com/\")\n",
    "summarizer(website)"
   ]
  },
  {
   "cell_type": "code",
   "execution_count": 7,
   "id": "a751b237-281a-411d-bec3-3c974d9a92be",
   "metadata": {},
   "outputs": [
    {
     "data": {
      "text/markdown": [
       "This appears to be the homepage of the Canadian Broadcasting Corporation (CBC) website, with a mix of news articles, sports updates, and entertainment features. The content is categorized into various sections, including:\n",
       "\n",
       "* News: Articles on politics, current events, and national news.\n",
       "* Sports: Updates on hockey, curling, snowboarding, and other winter sports, as well as Canadian mixed doubles curling trials.\n",
       "* Entertainment: Features on music, arts, and culture, including albums turning 25 in 2025 and a mom paying her child $100 to read a book.\n",
       "* Life: Articles on personal finance, relationships, and lifestyle topics, such as how to update your resume even if you haven't had a job in years.\n",
       "* Politics: Analysis of the Liberal government's plans for 2025, including potential prorogation.\n",
       "* World News: Updates on international news, including Ukraine halting transit of Russian gas to Europe.\n",
       "\n",
       "The website also includes various sections and features, such as:\n",
       "\n",
       "* A section dedicated to Indigenous culture and issues.\n",
       "* A section on arts and entertainment, including music, books, and film.\n",
       "* A section on politics and current events.\n",
       "* A section on sports and fitness.\n",
       "* A section on personal finance and lifestyle topics.\n",
       "\n",
       "Overall, the website appears to be a comprehensive source of news, information, and entertainment for Canadians."
      ],
      "text/plain": [
       "<IPython.core.display.Markdown object>"
      ]
     },
     "metadata": {},
     "output_type": "display_data"
    }
   ],
   "source": [
    "website = Website(\"https://www.cbc.ca/\")\n",
    "summarizer(website)"
   ]
  },
  {
   "cell_type": "code",
   "execution_count": null,
   "id": "e027f907-6597-4e99-8fc9-f2ec07a590f7",
   "metadata": {},
   "outputs": [],
   "source": []
  }
 ],
 "metadata": {
  "kernelspec": {
   "display_name": "Python 3 (ipykernel)",
   "language": "python",
   "name": "python3"
  },
  "language_info": {
   "codemirror_mode": {
    "name": "ipython",
    "version": 3
   },
   "file_extension": ".py",
   "mimetype": "text/x-python",
   "name": "python",
   "nbconvert_exporter": "python",
   "pygments_lexer": "ipython3",
   "version": "3.11.3"
  }
 },
 "nbformat": 4,
 "nbformat_minor": 5
}
